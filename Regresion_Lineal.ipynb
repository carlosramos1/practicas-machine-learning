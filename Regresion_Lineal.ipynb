{
  "nbformat": 4,
  "nbformat_minor": 0,
  "metadata": {
    "colab": {
      "provenance": [],
      "authorship_tag": "ABX9TyNjl6qRU5uRLd5/wgRbI1SP",
      "include_colab_link": true
    },
    "kernelspec": {
      "name": "python3",
      "display_name": "Python 3"
    },
    "language_info": {
      "name": "python"
    }
  },
  "cells": [
    {
      "cell_type": "markdown",
      "metadata": {
        "id": "view-in-github",
        "colab_type": "text"
      },
      "source": [
        "<a href=\"https://colab.research.google.com/github/carlosramos1/practicas-machine-learning/blob/main/Regresion_Lineal.ipynb\" target=\"_parent\"><img src=\"https://colab.research.google.com/assets/colab-badge.svg\" alt=\"Open In Colab\"/></a>"
      ]
    },
    {
      "cell_type": "code",
      "execution_count": null,
      "metadata": {
        "id": "dKjFwB6crG9T"
      },
      "outputs": [],
      "source": [
        "import numpy as np\n",
        "import matplotlib.pyplot as plt\n",
        "from numpy import linalg as LA\n",
        "plt.style.use('ggplot')"
      ]
    },
    {
      "cell_type": "markdown",
      "source": [
        "Construimos datos de prueba"
      ],
      "metadata": {
        "id": "m_dSMfJdrYt7"
      }
    },
    {
      "cell_type": "code",
      "source": [
        "# Tamaño de muestra\n",
        "n=100\n",
        "\n",
        "# Regresores\n",
        "np.random.seed(8888)\n",
        "x1 = np.random.uniform(low=0, high=15, size=(n,))\n",
        "np.random.seed(4258)\n",
        "x2 = np.random.uniform(low=20, high=80, size=(n,))\n",
        "np.random.seed(3456)\n",
        "x3 = np.random.uniform(low=10, high=40, size=(n,))\n",
        "\n",
        "# Error\n",
        "np.random.seed(4321)\n",
        "E = np.random.normal(loc=0.0, scale=10, size=n)\n",
        "\n",
        "# Variable respuesta\n",
        "Y=20.5+3.8*x1+6.5*x2+10*x3+E"
      ],
      "metadata": {
        "id": "IqexiRrBrSbF"
      },
      "execution_count": null,
      "outputs": []
    },
    {
      "cell_type": "markdown",
      "source": [
        "## Método de mínimos cuadrados\n",
        "\n",
        "Minimizar RSS para encontrar los parámetros $\\beta$ 's"
      ],
      "metadata": {
        "id": "TW2mwHr9sAs-"
      }
    },
    {
      "cell_type": "code",
      "source": [
        "# 1. Escribir X como una matriz de tamaño N x (p+1),\n",
        "#    es decir, N filas y (p+1) columanas\n",
        "#    donde la primera columna es de 1s'.\n",
        "ones = np.ones(n)\n",
        "X = np.array((ones,x1,x2,x3)).T\n",
        "X.shape"
      ],
      "metadata": {
        "colab": {
          "base_uri": "https://localhost:8080/"
        },
        "id": "tkS1i_L-sASh",
        "outputId": "25d48906-a912-49a0-98dc-42945480a94e"
      },
      "execution_count": null,
      "outputs": [
        {
          "output_type": "execute_result",
          "data": {
            "text/plain": [
              "(100, 4)"
            ]
          },
          "metadata": {},
          "execution_count": 24
        }
      ]
    },
    {
      "cell_type": "code",
      "source": [
        "# 2. escribir 'y' como un vector columna\n",
        "y = Y.reshape((100,1))\n",
        "y.shape"
      ],
      "metadata": {
        "colab": {
          "base_uri": "https://localhost:8080/"
        },
        "id": "aZgkR1lYtD1E",
        "outputId": "e30b8ce8-8003-48e8-dbf4-5ff6db2b6879"
      },
      "execution_count": null,
      "outputs": [
        {
          "output_type": "execute_result",
          "data": {
            "text/plain": [
              "(100, 1)"
            ]
          },
          "metadata": {},
          "execution_count": 25
        }
      ]
    },
    {
      "cell_type": "code",
      "source": [
        "# 3. Estimar los parámetros Beta's\n",
        "Xt_X = X.T @ X\n",
        "Xt_y = X.T @ y\n",
        "\n",
        "beta_hat = LA.inv(Xt_X) @ Xt_y\n",
        "beta_hat"
      ],
      "metadata": {
        "colab": {
          "base_uri": "https://localhost:8080/"
        },
        "id": "6z-_wq2zuOYC",
        "outputId": "5d8f0b8b-6239-4330-eea8-775d030da29f"
      },
      "execution_count": null,
      "outputs": [
        {
          "output_type": "execute_result",
          "data": {
            "text/plain": [
              "array([[26.79295998],\n",
              "       [ 3.2388939 ],\n",
              "       [ 6.57385373],\n",
              "       [ 9.73114711]])"
            ]
          },
          "metadata": {},
          "execution_count": 26
        }
      ]
    },
    {
      "cell_type": "code",
      "source": [
        "# Si comparamos con Y=20.5+3.8*x1+6.5*x2+10*x3+E, tiene cierta similitud."
      ],
      "metadata": {
        "id": "Gk2E6BkPwTfD"
      },
      "execution_count": null,
      "outputs": []
    },
    {
      "cell_type": "markdown",
      "source": [
        "## Gradiente descendiente"
      ],
      "metadata": {
        "id": "WUA7w3IP9XI2"
      }
    },
    {
      "cell_type": "code",
      "source": [
        "# Primero estandaricemos nuestras variables....\n",
        "z0 = np.copy(ones)\n",
        "z1 = (x1 - np.mean(x1))/np.std(x1)\n",
        "z2 = (x2 - np.mean(x2))/np.std(x2)\n",
        "z3 = (x3 - np.mean(x3))/np.std(x3)"
      ],
      "metadata": {
        "id": "niRikKal9ZD-"
      },
      "execution_count": null,
      "outputs": []
    },
    {
      "cell_type": "code",
      "source": [
        "Z = np.array((z0,z1,z2,z3)).T\n",
        "Z.shape"
      ],
      "metadata": {
        "colab": {
          "base_uri": "https://localhost:8080/"
        },
        "id": "4B9cqiYc9jKD",
        "outputId": "671ab64e-9768-45ba-dce5-40925462b798"
      },
      "execution_count": null,
      "outputs": [
        {
          "output_type": "execute_result",
          "data": {
            "text/plain": [
              "(100, 4)"
            ]
          },
          "metadata": {},
          "execution_count": 31
        }
      ]
    },
    {
      "cell_type": "code",
      "source": [
        "y.shape"
      ],
      "metadata": {
        "colab": {
          "base_uri": "https://localhost:8080/"
        },
        "id": "_7Ehi0sQ_Qx9",
        "outputId": "68bccccc-0169-4f3f-9bdd-8b228f85d6b5"
      },
      "execution_count": null,
      "outputs": [
        {
          "output_type": "execute_result",
          "data": {
            "text/plain": [
              "(100, 1)"
            ]
          },
          "metadata": {},
          "execution_count": 36
        }
      ]
    },
    {
      "cell_type": "code",
      "source": [
        "# Definamos la función del gradiente del costo...\n",
        "def grad_costo(beta, X, Y):\n",
        "    grad_costo = X.T @ ((X@beta) - Y)\n",
        "    return(grad_costo)"
      ],
      "metadata": {
        "id": "blK0Puom9xzV"
      },
      "execution_count": null,
      "outputs": []
    },
    {
      "cell_type": "code",
      "source": [
        "# Definamos el algoritmo de gradient descent...\n",
        "def gradient_descent(X, Y, alpha=0.01, epocs=1000):\n",
        "    np.random.seed(1432)\n",
        "    beta = np.random.uniform(low=0, high=1, size=(X.shape[1],1))\n",
        "    for i in range(epocs):\n",
        "        beta = beta-alpha*grad_costo(beta, X, Y)\n",
        "    return beta"
      ],
      "metadata": {
        "id": "EGaPmrvB-fFH"
      },
      "execution_count": null,
      "outputs": []
    },
    {
      "cell_type": "code",
      "source": [
        "# Obtengamos los estimadores...\n",
        "beta = gradient_descent(Z, y, alpha=0.001, epocs=100)\n",
        "print(beta)"
      ],
      "metadata": {
        "colab": {
          "base_uri": "https://localhost:8080/"
        },
        "id": "UjbY-QAu-vNo",
        "outputId": "e50ea492-8737-4bc6-809a-e93312ac7521"
      },
      "execution_count": null,
      "outputs": [
        {
          "output_type": "stream",
          "name": "stdout",
          "text": [
            "[[645.77438576]\n",
            " [ 14.21359118]\n",
            " [113.64555245]\n",
            " [ 90.04283691]]\n"
          ]
        }
      ]
    },
    {
      "cell_type": "code",
      "source": [
        "# Finalmente, obtengamos los estimadores no estandarizados...\n",
        "B_gd=np.zeros((4,1))\n",
        "B_gd[1,]=beta[1,]/np.std(x1)\n",
        "B_gd[2,]=beta[2,]/np.std(x2)\n",
        "B_gd[3,]=beta[3,]/np.std(x3)\n",
        "B_gd[0,]=beta[0,]-(B_gd[1,]*np.mean(x1)\n",
        "                   +B_gd[2,]*np.mean(x2)\n",
        "                   +B_gd[3,]*np.mean(x3))\n",
        "print(B_gd)"
      ],
      "metadata": {
        "colab": {
          "base_uri": "https://localhost:8080/"
        },
        "id": "moRuxcrc_Xeu",
        "outputId": "d3b86cb0-2f8d-4bc1-a1bc-4a9eff54ab4a"
      },
      "execution_count": null,
      "outputs": [
        {
          "output_type": "stream",
          "name": "stdout",
          "text": [
            "[[26.84728739]\n",
            " [ 3.23522308]\n",
            " [ 6.5738314 ]\n",
            " [ 9.72941852]]\n"
          ]
        }
      ]
    }
  ]
}