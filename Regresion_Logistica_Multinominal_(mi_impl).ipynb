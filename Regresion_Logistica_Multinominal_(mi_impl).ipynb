{
  "nbformat": 4,
  "nbformat_minor": 0,
  "metadata": {
    "colab": {
      "provenance": [],
      "authorship_tag": "ABX9TyNwxHfCdJ8O5gmR27Qla1EV",
      "include_colab_link": true
    },
    "kernelspec": {
      "name": "python3",
      "display_name": "Python 3"
    },
    "language_info": {
      "name": "python"
    }
  },
  "cells": [
    {
      "cell_type": "markdown",
      "metadata": {
        "id": "view-in-github",
        "colab_type": "text"
      },
      "source": [
        "<a href=\"https://colab.research.google.com/github/carlosramos1/practicas-machine-learning/blob/main/Regresion_Logistica_Multinominal_(mi_impl).ipynb\" target=\"_parent\"><img src=\"https://colab.research.google.com/assets/colab-badge.svg\" alt=\"Open In Colab\"/></a>"
      ]
    },
    {
      "cell_type": "code",
      "execution_count": 64,
      "metadata": {
        "id": "SnyYIlBM1ZFm"
      },
      "outputs": [],
      "source": [
        "# Importar librerias\n",
        "import numpy as np\n",
        "import pandas as pd\n",
        "from sklearn.metrics import confusion_matrix\n",
        "from sklearn import preprocessing"
      ]
    },
    {
      "cell_type": "markdown",
      "source": [
        "## Gradiente Descendente"
      ],
      "metadata": {
        "id": "jG1IkGwB1pi9"
      }
    },
    {
      "cell_type": "code",
      "source": [
        "XX = np.ones((5,4))\n",
        "KK = 3\n",
        "theta = np.random.uniform(low=0, high=1, size=(XX.shape[1],KK))\n",
        "theta"
      ],
      "metadata": {
        "colab": {
          "base_uri": "https://localhost:8080/"
        },
        "id": "wqF-MIbWTMbL",
        "outputId": "e6189ce8-60b5-4e99-c641-019ab881a43b"
      },
      "execution_count": 65,
      "outputs": [
        {
          "output_type": "execute_result",
          "data": {
            "text/plain": [
              "array([[0.36566077, 0.57766599, 0.30136033],\n",
              "       [0.76900757, 0.2976799 , 0.99740597],\n",
              "       [0.95920877, 0.30781027, 0.50600635],\n",
              "       [0.65250806, 0.82520135, 0.06701301]])"
            ]
          },
          "metadata": {},
          "execution_count": 65
        }
      ]
    },
    {
      "cell_type": "code",
      "source": [
        "def gradient_descent(X, Y, alpha=0.01, epochs=1000):\n",
        "    K = Y.shape[1]\n",
        "    np.random.seed(1432)\n",
        "    theta = np.random.uniform(low=0, high=1, size=(X.shape[1],K))\n",
        "    for i in range(epochs):\n",
        "        theta = theta - alpha*gradient_J(theta, X, Y)\n",
        "    return theta"
      ],
      "metadata": {
        "id": "coOMmAFn1lv1"
      },
      "execution_count": 66,
      "outputs": []
    },
    {
      "cell_type": "code",
      "source": [
        "# Gradiente de la función de costo  d_J/d_theta\n",
        "def gradient_J(theta, X, y):\n",
        "  PI = softmax(X, theta)\n",
        "  return - X.T @ (y - PI)"
      ],
      "metadata": {
        "id": "SpP6RpQC2p9I"
      },
      "execution_count": 67,
      "outputs": []
    },
    {
      "cell_type": "code",
      "source": [
        "def softmax(X, theta):\n",
        "  n = X.shape[0]\n",
        "  Z = X @ theta\n",
        "  num = np.exp(Z)\n",
        "  den = []\n",
        "  for i in range(n):\n",
        "    den.append(np.sum(np.exp(Z[i,:])))\n",
        "  den = np.array(den).reshape((n,1))\n",
        "  return num/den"
      ],
      "metadata": {
        "id": "yNB45vqc3hzq"
      },
      "execution_count": 68,
      "outputs": []
    },
    {
      "cell_type": "code",
      "source": [
        "zi1 = 2\n",
        "zi2 = 1\n",
        "zi3 = 0\n",
        "K = 2\n",
        "Z = np.array([[zi1,zi2,zi3],\n",
        "              [0.1,0.3,0.4]])\n",
        "num = np.exp(Z)\n",
        "den = []\n",
        "for i in range(2):\n",
        "  den.append(np.sum(np.exp(Z[i,:])))\n",
        "\n",
        "den = np.array(den).reshape((K,1))\n",
        "num/den"
      ],
      "metadata": {
        "colab": {
          "base_uri": "https://localhost:8080/"
        },
        "id": "A-jlfhS_oxNN",
        "outputId": "943e8355-0dfd-4ace-e7b8-b4ed227e8fa6"
      },
      "execution_count": 69,
      "outputs": [
        {
          "output_type": "execute_result",
          "data": {
            "text/plain": [
              "array([[0.66524096, 0.24472847, 0.09003057],\n",
              "       [0.28001309, 0.34200877, 0.37797814]])"
            ]
          },
          "metadata": {},
          "execution_count": 69
        }
      ]
    },
    {
      "cell_type": "markdown",
      "source": [
        "## Preparación de datos"
      ],
      "metadata": {
        "id": "cqwiRV9dLucE"
      }
    },
    {
      "cell_type": "markdown",
      "source": [
        "### Datos de prueba"
      ],
      "metadata": {
        "id": "D3yRRTllBNKh"
      }
    },
    {
      "cell_type": "code",
      "source": [
        "# Lectura de datos\n",
        "url = 'https://raw.githubusercontent.com/carlosramos1/datosML/refs/heads/main/newthyroid.csv'\n",
        "thyroids = pd.read_csv(url)\n",
        "\n",
        "# Renombrar columnas\n",
        "thyroids.columns = ['T3','TRX','TRI','TRS','TSH','Tipo']\n",
        "thyroids.head()"
      ],
      "metadata": {
        "colab": {
          "base_uri": "https://localhost:8080/",
          "height": 206
        },
        "id": "Qzi05n4e7kx6",
        "outputId": "8e6caea4-8215-466d-87b9-ca6f7e58c211"
      },
      "execution_count": 70,
      "outputs": [
        {
          "output_type": "execute_result",
          "data": {
            "text/plain": [
              "    T3   TRX  TRI  TRS  TSH  Tipo\n",
              "0  107  10.1  2.2  0.9  2.7     1\n",
              "1  113   9.9  3.1  2.0  5.9     1\n",
              "2  127  12.9  2.4  1.4  0.6     1\n",
              "3  109   5.3  1.6  1.4  1.5     1\n",
              "4  105   7.3  1.5  1.5 -0.1     1"
            ],
            "text/html": [
              "\n",
              "  <div id=\"df-c37f6c4f-ac63-498a-ad4e-089f2d5af8c3\" class=\"colab-df-container\">\n",
              "    <div>\n",
              "<style scoped>\n",
              "    .dataframe tbody tr th:only-of-type {\n",
              "        vertical-align: middle;\n",
              "    }\n",
              "\n",
              "    .dataframe tbody tr th {\n",
              "        vertical-align: top;\n",
              "    }\n",
              "\n",
              "    .dataframe thead th {\n",
              "        text-align: right;\n",
              "    }\n",
              "</style>\n",
              "<table border=\"1\" class=\"dataframe\">\n",
              "  <thead>\n",
              "    <tr style=\"text-align: right;\">\n",
              "      <th></th>\n",
              "      <th>T3</th>\n",
              "      <th>TRX</th>\n",
              "      <th>TRI</th>\n",
              "      <th>TRS</th>\n",
              "      <th>TSH</th>\n",
              "      <th>Tipo</th>\n",
              "    </tr>\n",
              "  </thead>\n",
              "  <tbody>\n",
              "    <tr>\n",
              "      <th>0</th>\n",
              "      <td>107</td>\n",
              "      <td>10.1</td>\n",
              "      <td>2.2</td>\n",
              "      <td>0.9</td>\n",
              "      <td>2.7</td>\n",
              "      <td>1</td>\n",
              "    </tr>\n",
              "    <tr>\n",
              "      <th>1</th>\n",
              "      <td>113</td>\n",
              "      <td>9.9</td>\n",
              "      <td>3.1</td>\n",
              "      <td>2.0</td>\n",
              "      <td>5.9</td>\n",
              "      <td>1</td>\n",
              "    </tr>\n",
              "    <tr>\n",
              "      <th>2</th>\n",
              "      <td>127</td>\n",
              "      <td>12.9</td>\n",
              "      <td>2.4</td>\n",
              "      <td>1.4</td>\n",
              "      <td>0.6</td>\n",
              "      <td>1</td>\n",
              "    </tr>\n",
              "    <tr>\n",
              "      <th>3</th>\n",
              "      <td>109</td>\n",
              "      <td>5.3</td>\n",
              "      <td>1.6</td>\n",
              "      <td>1.4</td>\n",
              "      <td>1.5</td>\n",
              "      <td>1</td>\n",
              "    </tr>\n",
              "    <tr>\n",
              "      <th>4</th>\n",
              "      <td>105</td>\n",
              "      <td>7.3</td>\n",
              "      <td>1.5</td>\n",
              "      <td>1.5</td>\n",
              "      <td>-0.1</td>\n",
              "      <td>1</td>\n",
              "    </tr>\n",
              "  </tbody>\n",
              "</table>\n",
              "</div>\n",
              "    <div class=\"colab-df-buttons\">\n",
              "\n",
              "  <div class=\"colab-df-container\">\n",
              "    <button class=\"colab-df-convert\" onclick=\"convertToInteractive('df-c37f6c4f-ac63-498a-ad4e-089f2d5af8c3')\"\n",
              "            title=\"Convert this dataframe to an interactive table.\"\n",
              "            style=\"display:none;\">\n",
              "\n",
              "  <svg xmlns=\"http://www.w3.org/2000/svg\" height=\"24px\" viewBox=\"0 -960 960 960\">\n",
              "    <path d=\"M120-120v-720h720v720H120Zm60-500h600v-160H180v160Zm220 220h160v-160H400v160Zm0 220h160v-160H400v160ZM180-400h160v-160H180v160Zm440 0h160v-160H620v160ZM180-180h160v-160H180v160Zm440 0h160v-160H620v160Z\"/>\n",
              "  </svg>\n",
              "    </button>\n",
              "\n",
              "  <style>\n",
              "    .colab-df-container {\n",
              "      display:flex;\n",
              "      gap: 12px;\n",
              "    }\n",
              "\n",
              "    .colab-df-convert {\n",
              "      background-color: #E8F0FE;\n",
              "      border: none;\n",
              "      border-radius: 50%;\n",
              "      cursor: pointer;\n",
              "      display: none;\n",
              "      fill: #1967D2;\n",
              "      height: 32px;\n",
              "      padding: 0 0 0 0;\n",
              "      width: 32px;\n",
              "    }\n",
              "\n",
              "    .colab-df-convert:hover {\n",
              "      background-color: #E2EBFA;\n",
              "      box-shadow: 0px 1px 2px rgba(60, 64, 67, 0.3), 0px 1px 3px 1px rgba(60, 64, 67, 0.15);\n",
              "      fill: #174EA6;\n",
              "    }\n",
              "\n",
              "    .colab-df-buttons div {\n",
              "      margin-bottom: 4px;\n",
              "    }\n",
              "\n",
              "    [theme=dark] .colab-df-convert {\n",
              "      background-color: #3B4455;\n",
              "      fill: #D2E3FC;\n",
              "    }\n",
              "\n",
              "    [theme=dark] .colab-df-convert:hover {\n",
              "      background-color: #434B5C;\n",
              "      box-shadow: 0px 1px 3px 1px rgba(0, 0, 0, 0.15);\n",
              "      filter: drop-shadow(0px 1px 2px rgba(0, 0, 0, 0.3));\n",
              "      fill: #FFFFFF;\n",
              "    }\n",
              "  </style>\n",
              "\n",
              "    <script>\n",
              "      const buttonEl =\n",
              "        document.querySelector('#df-c37f6c4f-ac63-498a-ad4e-089f2d5af8c3 button.colab-df-convert');\n",
              "      buttonEl.style.display =\n",
              "        google.colab.kernel.accessAllowed ? 'block' : 'none';\n",
              "\n",
              "      async function convertToInteractive(key) {\n",
              "        const element = document.querySelector('#df-c37f6c4f-ac63-498a-ad4e-089f2d5af8c3');\n",
              "        const dataTable =\n",
              "          await google.colab.kernel.invokeFunction('convertToInteractive',\n",
              "                                                    [key], {});\n",
              "        if (!dataTable) return;\n",
              "\n",
              "        const docLinkHtml = 'Like what you see? Visit the ' +\n",
              "          '<a target=\"_blank\" href=https://colab.research.google.com/notebooks/data_table.ipynb>data table notebook</a>'\n",
              "          + ' to learn more about interactive tables.';\n",
              "        element.innerHTML = '';\n",
              "        dataTable['output_type'] = 'display_data';\n",
              "        await google.colab.output.renderOutput(dataTable, element);\n",
              "        const docLink = document.createElement('div');\n",
              "        docLink.innerHTML = docLinkHtml;\n",
              "        element.appendChild(docLink);\n",
              "      }\n",
              "    </script>\n",
              "  </div>\n",
              "\n",
              "\n",
              "    <div id=\"df-511a8058-7687-491c-8b93-e864d7165d6e\">\n",
              "      <button class=\"colab-df-quickchart\" onclick=\"quickchart('df-511a8058-7687-491c-8b93-e864d7165d6e')\"\n",
              "                title=\"Suggest charts\"\n",
              "                style=\"display:none;\">\n",
              "\n",
              "<svg xmlns=\"http://www.w3.org/2000/svg\" height=\"24px\"viewBox=\"0 0 24 24\"\n",
              "     width=\"24px\">\n",
              "    <g>\n",
              "        <path d=\"M19 3H5c-1.1 0-2 .9-2 2v14c0 1.1.9 2 2 2h14c1.1 0 2-.9 2-2V5c0-1.1-.9-2-2-2zM9 17H7v-7h2v7zm4 0h-2V7h2v10zm4 0h-2v-4h2v4z\"/>\n",
              "    </g>\n",
              "</svg>\n",
              "      </button>\n",
              "\n",
              "<style>\n",
              "  .colab-df-quickchart {\n",
              "      --bg-color: #E8F0FE;\n",
              "      --fill-color: #1967D2;\n",
              "      --hover-bg-color: #E2EBFA;\n",
              "      --hover-fill-color: #174EA6;\n",
              "      --disabled-fill-color: #AAA;\n",
              "      --disabled-bg-color: #DDD;\n",
              "  }\n",
              "\n",
              "  [theme=dark] .colab-df-quickchart {\n",
              "      --bg-color: #3B4455;\n",
              "      --fill-color: #D2E3FC;\n",
              "      --hover-bg-color: #434B5C;\n",
              "      --hover-fill-color: #FFFFFF;\n",
              "      --disabled-bg-color: #3B4455;\n",
              "      --disabled-fill-color: #666;\n",
              "  }\n",
              "\n",
              "  .colab-df-quickchart {\n",
              "    background-color: var(--bg-color);\n",
              "    border: none;\n",
              "    border-radius: 50%;\n",
              "    cursor: pointer;\n",
              "    display: none;\n",
              "    fill: var(--fill-color);\n",
              "    height: 32px;\n",
              "    padding: 0;\n",
              "    width: 32px;\n",
              "  }\n",
              "\n",
              "  .colab-df-quickchart:hover {\n",
              "    background-color: var(--hover-bg-color);\n",
              "    box-shadow: 0 1px 2px rgba(60, 64, 67, 0.3), 0 1px 3px 1px rgba(60, 64, 67, 0.15);\n",
              "    fill: var(--button-hover-fill-color);\n",
              "  }\n",
              "\n",
              "  .colab-df-quickchart-complete:disabled,\n",
              "  .colab-df-quickchart-complete:disabled:hover {\n",
              "    background-color: var(--disabled-bg-color);\n",
              "    fill: var(--disabled-fill-color);\n",
              "    box-shadow: none;\n",
              "  }\n",
              "\n",
              "  .colab-df-spinner {\n",
              "    border: 2px solid var(--fill-color);\n",
              "    border-color: transparent;\n",
              "    border-bottom-color: var(--fill-color);\n",
              "    animation:\n",
              "      spin 1s steps(1) infinite;\n",
              "  }\n",
              "\n",
              "  @keyframes spin {\n",
              "    0% {\n",
              "      border-color: transparent;\n",
              "      border-bottom-color: var(--fill-color);\n",
              "      border-left-color: var(--fill-color);\n",
              "    }\n",
              "    20% {\n",
              "      border-color: transparent;\n",
              "      border-left-color: var(--fill-color);\n",
              "      border-top-color: var(--fill-color);\n",
              "    }\n",
              "    30% {\n",
              "      border-color: transparent;\n",
              "      border-left-color: var(--fill-color);\n",
              "      border-top-color: var(--fill-color);\n",
              "      border-right-color: var(--fill-color);\n",
              "    }\n",
              "    40% {\n",
              "      border-color: transparent;\n",
              "      border-right-color: var(--fill-color);\n",
              "      border-top-color: var(--fill-color);\n",
              "    }\n",
              "    60% {\n",
              "      border-color: transparent;\n",
              "      border-right-color: var(--fill-color);\n",
              "    }\n",
              "    80% {\n",
              "      border-color: transparent;\n",
              "      border-right-color: var(--fill-color);\n",
              "      border-bottom-color: var(--fill-color);\n",
              "    }\n",
              "    90% {\n",
              "      border-color: transparent;\n",
              "      border-bottom-color: var(--fill-color);\n",
              "    }\n",
              "  }\n",
              "</style>\n",
              "\n",
              "      <script>\n",
              "        async function quickchart(key) {\n",
              "          const quickchartButtonEl =\n",
              "            document.querySelector('#' + key + ' button');\n",
              "          quickchartButtonEl.disabled = true;  // To prevent multiple clicks.\n",
              "          quickchartButtonEl.classList.add('colab-df-spinner');\n",
              "          try {\n",
              "            const charts = await google.colab.kernel.invokeFunction(\n",
              "                'suggestCharts', [key], {});\n",
              "          } catch (error) {\n",
              "            console.error('Error during call to suggestCharts:', error);\n",
              "          }\n",
              "          quickchartButtonEl.classList.remove('colab-df-spinner');\n",
              "          quickchartButtonEl.classList.add('colab-df-quickchart-complete');\n",
              "        }\n",
              "        (() => {\n",
              "          let quickchartButtonEl =\n",
              "            document.querySelector('#df-511a8058-7687-491c-8b93-e864d7165d6e button');\n",
              "          quickchartButtonEl.style.display =\n",
              "            google.colab.kernel.accessAllowed ? 'block' : 'none';\n",
              "        })();\n",
              "      </script>\n",
              "    </div>\n",
              "\n",
              "    </div>\n",
              "  </div>\n"
            ],
            "application/vnd.google.colaboratory.intrinsic+json": {
              "type": "dataframe",
              "variable_name": "thyroids",
              "summary": "{\n  \"name\": \"thyroids\",\n  \"rows\": 215,\n  \"fields\": [\n    {\n      \"column\": \"T3\",\n      \"properties\": {\n        \"dtype\": \"number\",\n        \"std\": 13,\n        \"min\": 65,\n        \"max\": 144,\n        \"num_unique_values\": 55,\n        \"samples\": [\n          126,\n          110,\n          108\n        ],\n        \"semantic_type\": \"\",\n        \"description\": \"\"\n      }\n    },\n    {\n      \"column\": \"TRX\",\n      \"properties\": {\n        \"dtype\": \"number\",\n        \"std\": 4.697362229001958,\n        \"min\": 0.5,\n        \"max\": 25.3,\n        \"num_unique_values\": 100,\n        \"samples\": [\n          3.0,\n          16.4,\n          18.5\n        ],\n        \"semantic_type\": \"\",\n        \"description\": \"\"\n      }\n    },\n    {\n      \"column\": \"TRI\",\n      \"properties\": {\n        \"dtype\": \"number\",\n        \"std\": 1.4194863628964645,\n        \"min\": 0.2,\n        \"max\": 10.0,\n        \"num_unique_values\": 47,\n        \"samples\": [\n          10.0,\n          4.5,\n          5.5\n        ],\n        \"semantic_type\": \"\",\n        \"description\": \"\"\n      }\n    },\n    {\n      \"column\": \"TRS\",\n      \"properties\": {\n        \"dtype\": \"number\",\n        \"std\": 6.118030652540126,\n        \"min\": 0.1,\n        \"max\": 56.4,\n        \"num_unique_values\": 47,\n        \"samples\": [\n          23.0,\n          5.8,\n          10.4\n        ],\n        \"semantic_type\": \"\",\n        \"description\": \"\"\n      }\n    },\n    {\n      \"column\": \"TSH\",\n      \"properties\": {\n        \"dtype\": \"number\",\n        \"std\": 8.070518580528834,\n        \"min\": -0.7,\n        \"max\": 56.3,\n        \"num_unique_values\": 85,\n        \"samples\": [\n          19.0,\n          2.7,\n          56.3\n        ],\n        \"semantic_type\": \"\",\n        \"description\": \"\"\n      }\n    },\n    {\n      \"column\": \"Tipo\",\n      \"properties\": {\n        \"dtype\": \"number\",\n        \"std\": 0,\n        \"min\": 1,\n        \"max\": 3,\n        \"num_unique_values\": 3,\n        \"samples\": [\n          1,\n          2,\n          3\n        ],\n        \"semantic_type\": \"\",\n        \"description\": \"\"\n      }\n    }\n  ]\n}"
            }
          },
          "metadata": {},
          "execution_count": 70
        }
      ]
    },
    {
      "cell_type": "code",
      "source": [
        "# Establecer la variable predictoria X ademas añadir 1s en la 1ra columna\n",
        "\n",
        "# Número de observaciones\n",
        "n = thyroids.shape[0]\n",
        "\n",
        "# Definir matriz de datos\n",
        "X_data = thyroids.loc[:,['T3','TRX','TRI','TRS','TSH']]\n",
        "\n",
        "# normalizacion z-score\n",
        "X_z = preprocessing.scale(X_data)\n",
        "\n",
        "x0 = np.ones(n)\n",
        "X = np.column_stack((x0,X_z))\n",
        "\n",
        "X[:5]"
      ],
      "metadata": {
        "colab": {
          "base_uri": "https://localhost:8080/"
        },
        "id": "pEOg9Wz172LZ",
        "outputId": "c03c4169-533a-4463-f9a3-935d9e50a56d"
      },
      "execution_count": 71,
      "outputs": [
        {
          "output_type": "execute_result",
          "data": {
            "text/plain": [
              "array([[ 1.        , -0.19789404,  0.0630222 ,  0.10575442, -0.32438883,\n",
              "        -0.18617988],\n",
              "       [ 1.        ,  0.25960294,  0.02034575,  0.74126623, -0.14417281,\n",
              "         0.21125033],\n",
              "       [ 1.        ,  1.32709588,  0.6604925 ,  0.24697927, -0.24247246,\n",
              "        -0.44699346],\n",
              "       [ 1.        , -0.04539505, -0.9612126 , -0.31792012, -0.24247246,\n",
              "        -0.33521621],\n",
              "       [ 1.        , -0.35039303, -0.5344481 , -0.38853255, -0.22608918,\n",
              "        -0.53393132]])"
            ]
          },
          "metadata": {},
          "execution_count": 71
        }
      ]
    },
    {
      "cell_type": "code",
      "source": [
        "# Establecer la var. de respuestas 'y'\n",
        "y = np.array(thyroids.loc[:,['Tipo']])\n",
        "K = np.unique(y).size\n",
        "\n",
        "# Transformar 'y' a una matriz Y binarización (codificación one-hot)\n",
        "binarizer = preprocessing.LabelBinarizer()\n",
        "binarizer.fit([k+1 for k in range(K)])\n",
        "\n",
        "Y = binarizer.transform(y)\n",
        "Y[:5]"
      ],
      "metadata": {
        "colab": {
          "base_uri": "https://localhost:8080/"
        },
        "id": "_1Cim3jYCQWN",
        "outputId": "741da2e7-c9a6-4185-b1dd-0ec69c70a61d"
      },
      "execution_count": 72,
      "outputs": [
        {
          "output_type": "execute_result",
          "data": {
            "text/plain": [
              "array([[1, 0, 0],\n",
              "       [1, 0, 0],\n",
              "       [1, 0, 0],\n",
              "       [1, 0, 0],\n",
              "       [1, 0, 0]])"
            ]
          },
          "metadata": {},
          "execution_count": 72
        }
      ]
    },
    {
      "cell_type": "markdown",
      "source": [
        "## Entrenamiento"
      ],
      "metadata": {
        "id": "fcL9KMWZuidL"
      }
    },
    {
      "cell_type": "markdown",
      "source": [
        "### Cálculo de los parámetros $\\theta$"
      ],
      "metadata": {
        "id": "zQz_ZLtJL4V4"
      }
    },
    {
      "cell_type": "code",
      "source": [
        "# Calcular los parametros theta, mediante el método\n",
        "# Gradiente Decendente\n",
        "thetas = gradient_descent(X, Y)\n",
        "thetas"
      ],
      "metadata": {
        "colab": {
          "base_uri": "https://localhost:8080/"
        },
        "id": "tSCrGQfwDQQ6",
        "outputId": "be17d313-587c-448e-8c5a-e970dee74c83"
      },
      "execution_count": 73,
      "outputs": [
        {
          "output_type": "execute_result",
          "data": {
            "text/plain": [
              "array([[ 6.79405579, -1.75493617, -2.41558745],\n",
              "       [ 1.86063566, -1.94030812,  1.65829243],\n",
              "       [ 0.56761752,  7.82059385, -8.00850548],\n",
              "       [-0.85012253,  4.38833499, -2.17814431],\n",
              "       [-0.19316034, -0.77079177,  2.66029849],\n",
              "       [-0.02789271, -2.75705709,  4.77661669]])"
            ]
          },
          "metadata": {},
          "execution_count": 73
        }
      ]
    },
    {
      "cell_type": "markdown",
      "source": [
        "## Predicciones"
      ],
      "metadata": {
        "id": "TA5uhRZuKzjs"
      }
    },
    {
      "cell_type": "code",
      "source": [
        "# Probabilidades estimadas\n",
        "Probs = softmax(X, thetas)\n",
        "Probs.round(3)\n",
        "Probs[:5]"
      ],
      "metadata": {
        "colab": {
          "base_uri": "https://localhost:8080/"
        },
        "id": "zC_qH3LxvZJI",
        "outputId": "587065d6-27b8-4864-84c5-51861ac4351a"
      },
      "execution_count": 74,
      "outputs": [
        {
          "output_type": "execute_result",
          "data": {
            "text/plain": [
              "array([[9.97731720e-01, 2.25975822e-03, 8.52135634e-06],\n",
              "       [9.97469031e-01, 2.47661760e-03, 5.43509406e-05],\n",
              "       [9.97868719e-01, 2.13127020e-03, 1.11454568e-08],\n",
              "       [9.44653674e-01, 1.10801191e-07, 5.53462152e-02],\n",
              "       [9.99280398e-01, 9.71581358e-06, 7.09886608e-04]])"
            ]
          },
          "metadata": {},
          "execution_count": 74
        }
      ]
    },
    {
      "cell_type": "code",
      "source": [
        "# Estimaciones de la varaible de respeusta\n",
        "y_hat = np.argmax(Probs, axis=1)+1\n",
        "y_hat"
      ],
      "metadata": {
        "colab": {
          "base_uri": "https://localhost:8080/"
        },
        "id": "4X_obO8oQ3uY",
        "outputId": "6a128380-d8dc-4e81-a93c-a09b6a7a8719"
      },
      "execution_count": 75,
      "outputs": [
        {
          "output_type": "execute_result",
          "data": {
            "text/plain": [
              "array([1, 1, 1, 1, 1, 1, 1, 1, 1, 1, 1, 1, 1, 1, 1, 1, 1, 1, 1, 1, 1, 1,\n",
              "       1, 1, 1, 1, 1, 1, 1, 1, 1, 1, 1, 1, 1, 1, 1, 1, 1, 1, 1, 1, 1, 1,\n",
              "       1, 1, 1, 1, 1, 1, 1, 1, 1, 1, 1, 1, 1, 1, 1, 1, 1, 1, 1, 1, 1, 1,\n",
              "       1, 1, 1, 1, 1, 1, 1, 1, 1, 1, 1, 1, 1, 1, 2, 1, 1, 1, 1, 1, 1, 1,\n",
              "       1, 1, 1, 1, 1, 1, 1, 1, 1, 1, 1, 1, 1, 1, 1, 1, 1, 1, 1, 1, 1, 1,\n",
              "       1, 1, 1, 1, 1, 1, 1, 1, 1, 1, 1, 1, 1, 1, 1, 1, 1, 1, 1, 1, 1, 1,\n",
              "       1, 1, 1, 1, 1, 1, 1, 1, 1, 1, 1, 1, 1, 1, 1, 1, 1, 1, 2, 2, 2, 2,\n",
              "       2, 2, 2, 2, 2, 2, 2, 2, 2, 2, 2, 2, 2, 2, 2, 2, 2, 2, 2, 2, 2, 2,\n",
              "       2, 2, 2, 2, 2, 2, 2, 2, 2, 3, 3, 3, 3, 3, 3, 3, 3, 3, 3, 3, 3, 3,\n",
              "       3, 3, 3, 3, 3, 3, 3, 3, 3, 3, 3, 3, 3, 3, 1, 3, 3])"
            ]
          },
          "metadata": {},
          "execution_count": 75
        }
      ]
    },
    {
      "cell_type": "code",
      "source": [
        "# veamos la variable original\n",
        "y.flatten()"
      ],
      "metadata": {
        "colab": {
          "base_uri": "https://localhost:8080/"
        },
        "id": "bjtFW38J34l9",
        "outputId": "950447b2-0485-45bb-ac9e-7fc8b1870645"
      },
      "execution_count": 76,
      "outputs": [
        {
          "output_type": "execute_result",
          "data": {
            "text/plain": [
              "array([1, 1, 1, 1, 1, 1, 1, 1, 1, 1, 1, 1, 1, 1, 1, 1, 1, 1, 1, 1, 1, 1,\n",
              "       1, 1, 1, 1, 1, 1, 1, 1, 1, 1, 1, 1, 1, 1, 1, 1, 1, 1, 1, 1, 1, 1,\n",
              "       1, 1, 1, 1, 1, 1, 1, 1, 1, 1, 1, 1, 1, 1, 1, 1, 1, 1, 1, 1, 1, 1,\n",
              "       1, 1, 1, 1, 1, 1, 1, 1, 1, 1, 1, 1, 1, 1, 1, 1, 1, 1, 1, 1, 1, 1,\n",
              "       1, 1, 1, 1, 1, 1, 1, 1, 1, 1, 1, 1, 1, 1, 1, 1, 1, 1, 1, 1, 1, 1,\n",
              "       1, 1, 1, 1, 1, 1, 1, 1, 1, 1, 1, 1, 1, 1, 1, 1, 1, 1, 1, 1, 1, 1,\n",
              "       1, 1, 1, 1, 1, 1, 1, 1, 1, 1, 1, 1, 1, 1, 1, 1, 1, 1, 2, 2, 2, 2,\n",
              "       2, 2, 2, 2, 2, 2, 2, 2, 2, 2, 2, 2, 2, 2, 2, 2, 2, 2, 2, 2, 2, 2,\n",
              "       2, 2, 2, 2, 2, 2, 2, 2, 2, 3, 3, 3, 3, 3, 3, 3, 3, 3, 3, 3, 3, 3,\n",
              "       3, 3, 3, 3, 3, 3, 3, 3, 3, 3, 3, 3, 3, 3, 3, 3, 3])"
            ]
          },
          "metadata": {},
          "execution_count": 76
        }
      ]
    },
    {
      "cell_type": "code",
      "source": [
        "# Matriz de confusión\n",
        "cm = confusion_matrix(y, y_hat)\n",
        "print(cm)"
      ],
      "metadata": {
        "colab": {
          "base_uri": "https://localhost:8080/"
        },
        "id": "FVjCY-GZQFRb",
        "outputId": "56660c7d-b577-4a9c-8904-02c659206886"
      },
      "execution_count": 77,
      "outputs": [
        {
          "output_type": "stream",
          "name": "stdout",
          "text": [
            "[[149   1   0]\n",
            " [  0  35   0]\n",
            " [  1   0  29]]\n"
          ]
        }
      ]
    },
    {
      "cell_type": "code",
      "source": [
        "# Medida de aciertos\n",
        "((np.diag(cm).sum())/y.size)*100"
      ],
      "metadata": {
        "colab": {
          "base_uri": "https://localhost:8080/"
        },
        "id": "H87k5uSdHJ4S",
        "outputId": "d14709fa-e212-47b1-b91d-66688045f04b"
      },
      "execution_count": 78,
      "outputs": [
        {
          "output_type": "execute_result",
          "data": {
            "text/plain": [
              "np.float64(99.06976744186046)"
            ]
          },
          "metadata": {},
          "execution_count": 78
        }
      ]
    },
    {
      "cell_type": "code",
      "source": [
        "# Medida de error\n",
        "(1-(np.diag(cm).sum())/y.size)*100"
      ],
      "metadata": {
        "colab": {
          "base_uri": "https://localhost:8080/"
        },
        "id": "SpRFUIoPv8p8",
        "outputId": "7aa9d184-b7ff-4a2b-9851-38301ea78fea"
      },
      "execution_count": 79,
      "outputs": [
        {
          "output_type": "execute_result",
          "data": {
            "text/plain": [
              "np.float64(0.9302325581395321)"
            ]
          },
          "metadata": {},
          "execution_count": 79
        }
      ]
    }
  ]
}