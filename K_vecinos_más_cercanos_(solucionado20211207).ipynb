{
  "nbformat": 4,
  "nbformat_minor": 0,
  "metadata": {
    "colab": {
      "provenance": [],
      "include_colab_link": true
    },
    "kernelspec": {
      "name": "python3",
      "display_name": "Python 3"
    }
  },
  "cells": [
    {
      "cell_type": "markdown",
      "metadata": {
        "id": "view-in-github",
        "colab_type": "text"
      },
      "source": [
        "<a href=\"https://colab.research.google.com/github/cram05/practicas-machine-learning/blob/main/K_vecinos_m%C3%A1s_cercanos_(solucionado20211207).ipynb\" target=\"_parent\"><img src=\"https://colab.research.google.com/assets/colab-badge.svg\" alt=\"Open In Colab\"/></a>"
      ]
    },
    {
      "cell_type": "markdown",
      "metadata": {
        "id": "DO2G3HQ3UOmV"
      },
      "source": [
        "# K-vecinos más cercanos (KNN)"
      ]
    },
    {
      "cell_type": "code",
      "metadata": {
        "id": "YB4cGh4IX2l5"
      },
      "source": [
        "from google.colab import files\n",
        "import io\n",
        "\n",
        "import numpy as np\n",
        "import pandas as pd\n",
        "import matplotlib.pyplot as plt"
      ],
      "execution_count": null,
      "outputs": []
    },
    {
      "cell_type": "markdown",
      "metadata": {
        "id": "XqIMcco0Uz-n"
      },
      "source": [
        "## Regresón KNN"
      ]
    },
    {
      "cell_type": "markdown",
      "metadata": {
        "id": "caGowqBHIAPL"
      },
      "source": [
        "### Intuición"
      ]
    },
    {
      "cell_type": "markdown",
      "metadata": {
        "id": "OK_C16-hU-if"
      },
      "source": [
        "Consideremos el siguiente conjunto de datos sobre métricas de árboles. Se dispone la circunferencia (C), altura (A) y volúmen (V) de distintos árboles."
      ]
    },
    {
      "cell_type": "code",
      "metadata": {
        "id": "369YOL1xU99X",
        "outputId": "0445151a-3684-4550-ec9b-bc8a43b4b827",
        "colab": {
          "resources": {
            "http://localhost:8080/nbextensions/google.colab/files.js": {
              "data": "Ly8gQ29weXJpZ2h0IDIwMTcgR29vZ2xlIExMQwovLwovLyBMaWNlbnNlZCB1bmRlciB0aGUgQXBhY2hlIExpY2Vuc2UsIFZlcnNpb24gMi4wICh0aGUgIkxpY2Vuc2UiKTsKLy8geW91IG1heSBub3QgdXNlIHRoaXMgZmlsZSBleGNlcHQgaW4gY29tcGxpYW5jZSB3aXRoIHRoZSBMaWNlbnNlLgovLyBZb3UgbWF5IG9idGFpbiBhIGNvcHkgb2YgdGhlIExpY2Vuc2UgYXQKLy8KLy8gICAgICBodHRwOi8vd3d3LmFwYWNoZS5vcmcvbGljZW5zZXMvTElDRU5TRS0yLjAKLy8KLy8gVW5sZXNzIHJlcXVpcmVkIGJ5IGFwcGxpY2FibGUgbGF3IG9yIGFncmVlZCB0byBpbiB3cml0aW5nLCBzb2Z0d2FyZQovLyBkaXN0cmlidXRlZCB1bmRlciB0aGUgTGljZW5zZSBpcyBkaXN0cmlidXRlZCBvbiBhbiAiQVMgSVMiIEJBU0lTLAovLyBXSVRIT1VUIFdBUlJBTlRJRVMgT1IgQ09ORElUSU9OUyBPRiBBTlkgS0lORCwgZWl0aGVyIGV4cHJlc3Mgb3IgaW1wbGllZC4KLy8gU2VlIHRoZSBMaWNlbnNlIGZvciB0aGUgc3BlY2lmaWMgbGFuZ3VhZ2UgZ292ZXJuaW5nIHBlcm1pc3Npb25zIGFuZAovLyBsaW1pdGF0aW9ucyB1bmRlciB0aGUgTGljZW5zZS4KCi8qKgogKiBAZmlsZW92ZXJ2aWV3IEhlbHBlcnMgZm9yIGdvb2dsZS5jb2xhYiBQeXRob24gbW9kdWxlLgogKi8KKGZ1bmN0aW9uKHNjb3BlKSB7CmZ1bmN0aW9uIHNwYW4odGV4dCwgc3R5bGVBdHRyaWJ1dGVzID0ge30pIHsKICBjb25zdCBlbGVtZW50ID0gZG9jdW1lbnQuY3JlYXRlRWxlbWVudCgnc3BhbicpOwogIGVsZW1lbnQudGV4dENvbnRlbnQgPSB0ZXh0OwogIGZvciAoY29uc3Qga2V5IG9mIE9iamVjdC5rZXlzKHN0eWxlQXR0cmlidXRlcykpIHsKICAgIGVsZW1lbnQuc3R5bGVba2V5XSA9IHN0eWxlQXR0cmlidXRlc1trZXldOwogIH0KICByZXR1cm4gZWxlbWVudDsKfQoKLy8gTWF4IG51bWJlciBvZiBieXRlcyB3aGljaCB3aWxsIGJlIHVwbG9hZGVkIGF0IGEgdGltZS4KY29uc3QgTUFYX1BBWUxPQURfU0laRSA9IDEwMCAqIDEwMjQ7CgpmdW5jdGlvbiBfdXBsb2FkRmlsZXMoaW5wdXRJZCwgb3V0cHV0SWQpIHsKICBjb25zdCBzdGVwcyA9IHVwbG9hZEZpbGVzU3RlcChpbnB1dElkLCBvdXRwdXRJZCk7CiAgY29uc3Qgb3V0cHV0RWxlbWVudCA9IGRvY3VtZW50LmdldEVsZW1lbnRCeUlkKG91dHB1dElkKTsKICAvLyBDYWNoZSBzdGVwcyBvbiB0aGUgb3V0cHV0RWxlbWVudCB0byBtYWtlIGl0IGF2YWlsYWJsZSBmb3IgdGhlIG5leHQgY2FsbAogIC8vIHRvIHVwbG9hZEZpbGVzQ29udGludWUgZnJvbSBQeXRob24uCiAgb3V0cHV0RWxlbWVudC5zdGVwcyA9IHN0ZXBzOwoKICByZXR1cm4gX3VwbG9hZEZpbGVzQ29udGludWUob3V0cHV0SWQpOwp9CgovLyBUaGlzIGlzIHJvdWdobHkgYW4gYXN5bmMgZ2VuZXJhdG9yIChub3Qgc3VwcG9ydGVkIGluIHRoZSBicm93c2VyIHlldCksCi8vIHdoZXJlIHRoZXJlIGFyZSBtdWx0aXBsZSBhc3luY2hyb25vdXMgc3RlcHMgYW5kIHRoZSBQeXRob24gc2lkZSBpcyBnb2luZwovLyB0byBwb2xsIGZvciBjb21wbGV0aW9uIG9mIGVhY2ggc3RlcC4KLy8gVGhpcyB1c2VzIGEgUHJvbWlzZSB0byBibG9jayB0aGUgcHl0aG9uIHNpZGUgb24gY29tcGxldGlvbiBvZiBlYWNoIHN0ZXAsCi8vIHRoZW4gcGFzc2VzIHRoZSByZXN1bHQgb2YgdGhlIHByZXZpb3VzIHN0ZXAgYXMgdGhlIGlucHV0IHRvIHRoZSBuZXh0IHN0ZXAuCmZ1bmN0aW9uIF91cGxvYWRGaWxlc0NvbnRpbnVlKG91dHB1dElkKSB7CiAgY29uc3Qgb3V0cHV0RWxlbWVudCA9IGRvY3VtZW50LmdldEVsZW1lbnRCeUlkKG91dHB1dElkKTsKICBjb25zdCBzdGVwcyA9IG91dHB1dEVsZW1lbnQuc3RlcHM7CgogIGNvbnN0IG5leHQgPSBzdGVwcy5uZXh0KG91dHB1dEVsZW1lbnQubGFzdFByb21pc2VWYWx1ZSk7CiAgcmV0dXJuIFByb21pc2UucmVzb2x2ZShuZXh0LnZhbHVlLnByb21pc2UpLnRoZW4oKHZhbHVlKSA9PiB7CiAgICAvLyBDYWNoZSB0aGUgbGFzdCBwcm9taXNlIHZhbHVlIHRvIG1ha2UgaXQgYXZhaWxhYmxlIHRvIHRoZSBuZXh0CiAgICAvLyBzdGVwIG9mIHRoZSBnZW5lcmF0b3IuCiAgICBvdXRwdXRFbGVtZW50Lmxhc3RQcm9taXNlVmFsdWUgPSB2YWx1ZTsKICAgIHJldHVybiBuZXh0LnZhbHVlLnJlc3BvbnNlOwogIH0pOwp9CgovKioKICogR2VuZXJhdG9yIGZ1bmN0aW9uIHdoaWNoIGlzIGNhbGxlZCBiZXR3ZWVuIGVhY2ggYXN5bmMgc3RlcCBvZiB0aGUgdXBsb2FkCiAqIHByb2Nlc3MuCiAqIEBwYXJhbSB7c3RyaW5nfSBpbnB1dElkIEVsZW1lbnQgSUQgb2YgdGhlIGlucHV0IGZpbGUgcGlja2VyIGVsZW1lbnQuCiAqIEBwYXJhbSB7c3RyaW5nfSBvdXRwdXRJZCBFbGVtZW50IElEIG9mIHRoZSBvdXRwdXQgZGlzcGxheS4KICogQHJldHVybiB7IUl0ZXJhYmxlPCFPYmplY3Q+fSBJdGVyYWJsZSBvZiBuZXh0IHN0ZXBzLgogKi8KZnVuY3Rpb24qIHVwbG9hZEZpbGVzU3RlcChpbnB1dElkLCBvdXRwdXRJZCkgewogIGNvbnN0IGlucHV0RWxlbWVudCA9IGRvY3VtZW50LmdldEVsZW1lbnRCeUlkKGlucHV0SWQpOwogIGlucHV0RWxlbWVudC5kaXNhYmxlZCA9IGZhbHNlOwoKICBjb25zdCBvdXRwdXRFbGVtZW50ID0gZG9jdW1lbnQuZ2V0RWxlbWVudEJ5SWQob3V0cHV0SWQpOwogIG91dHB1dEVsZW1lbnQuaW5uZXJIVE1MID0gJyc7CgogIGNvbnN0IHBpY2tlZFByb21pc2UgPSBuZXcgUHJvbWlzZSgocmVzb2x2ZSkgPT4gewogICAgaW5wdXRFbGVtZW50LmFkZEV2ZW50TGlzdGVuZXIoJ2NoYW5nZScsIChlKSA9PiB7CiAgICAgIHJlc29sdmUoZS50YXJnZXQuZmlsZXMpOwogICAgfSk7CiAgfSk7CgogIGNvbnN0IGNhbmNlbCA9IGRvY3VtZW50LmNyZWF0ZUVsZW1lbnQoJ2J1dHRvbicpOwogIGlucHV0RWxlbWVudC5wYXJlbnRFbGVtZW50LmFwcGVuZENoaWxkKGNhbmNlbCk7CiAgY2FuY2VsLnRleHRDb250ZW50ID0gJ0NhbmNlbCB1cGxvYWQnOwogIGNvbnN0IGNhbmNlbFByb21pc2UgPSBuZXcgUHJvbWlzZSgocmVzb2x2ZSkgPT4gewogICAgY2FuY2VsLm9uY2xpY2sgPSAoKSA9PiB7CiAgICAgIHJlc29sdmUobnVsbCk7CiAgICB9OwogIH0pOwoKICAvLyBXYWl0IGZvciB0aGUgdXNlciB0byBwaWNrIHRoZSBmaWxlcy4KICBjb25zdCBmaWxlcyA9IHlpZWxkIHsKICAgIHByb21pc2U6IFByb21pc2UucmFjZShbcGlja2VkUHJvbWlzZSwgY2FuY2VsUHJvbWlzZV0pLAogICAgcmVzcG9uc2U6IHsKICAgICAgYWN0aW9uOiAnc3RhcnRpbmcnLAogICAgfQogIH07CgogIGNhbmNlbC5yZW1vdmUoKTsKCiAgLy8gRGlzYWJsZSB0aGUgaW5wdXQgZWxlbWVudCBzaW5jZSBmdXJ0aGVyIHBpY2tzIGFyZSBub3QgYWxsb3dlZC4KICBpbnB1dEVsZW1lbnQuZGlzYWJsZWQgPSB0cnVlOwoKICBpZiAoIWZpbGVzKSB7CiAgICByZXR1cm4gewogICAgICByZXNwb25zZTogewogICAgICAgIGFjdGlvbjogJ2NvbXBsZXRlJywKICAgICAgfQogICAgfTsKICB9CgogIGZvciAoY29uc3QgZmlsZSBvZiBmaWxlcykgewogICAgY29uc3QgbGkgPSBkb2N1bWVudC5jcmVhdGVFbGVtZW50KCdsaScpOwogICAgbGkuYXBwZW5kKHNwYW4oZmlsZS5uYW1lLCB7Zm9udFdlaWdodDogJ2JvbGQnfSkpOwogICAgbGkuYXBwZW5kKHNwYW4oCiAgICAgICAgYCgke2ZpbGUudHlwZSB8fCAnbi9hJ30pIC0gJHtmaWxlLnNpemV9IGJ5dGVzLCBgICsKICAgICAgICBgbGFzdCBtb2RpZmllZDogJHsKICAgICAgICAgICAgZmlsZS5sYXN0TW9kaWZpZWREYXRlID8gZmlsZS5sYXN0TW9kaWZpZWREYXRlLnRvTG9jYWxlRGF0ZVN0cmluZygpIDoKICAgICAgICAgICAgICAgICAgICAgICAgICAgICAgICAgICAgJ24vYSd9IC0gYCkpOwogICAgY29uc3QgcGVyY2VudCA9IHNwYW4oJzAlIGRvbmUnKTsKICAgIGxpLmFwcGVuZENoaWxkKHBlcmNlbnQpOwoKICAgIG91dHB1dEVsZW1lbnQuYXBwZW5kQ2hpbGQobGkpOwoKICAgIGNvbnN0IGZpbGVEYXRhUHJvbWlzZSA9IG5ldyBQcm9taXNlKChyZXNvbHZlKSA9PiB7CiAgICAgIGNvbnN0IHJlYWRlciA9IG5ldyBGaWxlUmVhZGVyKCk7CiAgICAgIHJlYWRlci5vbmxvYWQgPSAoZSkgPT4gewogICAgICAgIHJlc29sdmUoZS50YXJnZXQucmVzdWx0KTsKICAgICAgfTsKICAgICAgcmVhZGVyLnJlYWRBc0FycmF5QnVmZmVyKGZpbGUpOwogICAgfSk7CiAgICAvLyBXYWl0IGZvciB0aGUgZGF0YSB0byBiZSByZWFkeS4KICAgIGxldCBmaWxlRGF0YSA9IHlpZWxkIHsKICAgICAgcHJvbWlzZTogZmlsZURhdGFQcm9taXNlLAogICAgICByZXNwb25zZTogewogICAgICAgIGFjdGlvbjogJ2NvbnRpbnVlJywKICAgICAgfQogICAgfTsKCiAgICAvLyBVc2UgYSBjaHVua2VkIHNlbmRpbmcgdG8gYXZvaWQgbWVzc2FnZSBzaXplIGxpbWl0cy4gU2VlIGIvNjIxMTU2NjAuCiAgICBsZXQgcG9zaXRpb24gPSAwOwogICAgZG8gewogICAgICBjb25zdCBsZW5ndGggPSBNYXRoLm1pbihmaWxlRGF0YS5ieXRlTGVuZ3RoIC0gcG9zaXRpb24sIE1BWF9QQVlMT0FEX1NJWkUpOwogICAgICBjb25zdCBjaHVuayA9IG5ldyBVaW50OEFycmF5KGZpbGVEYXRhLCBwb3NpdGlvbiwgbGVuZ3RoKTsKICAgICAgcG9zaXRpb24gKz0gbGVuZ3RoOwoKICAgICAgY29uc3QgYmFzZTY0ID0gYnRvYShTdHJpbmcuZnJvbUNoYXJDb2RlLmFwcGx5KG51bGwsIGNodW5rKSk7CiAgICAgIHlpZWxkIHsKICAgICAgICByZXNwb25zZTogewogICAgICAgICAgYWN0aW9uOiAnYXBwZW5kJywKICAgICAgICAgIGZpbGU6IGZpbGUubmFtZSwKICAgICAgICAgIGRhdGE6IGJhc2U2NCwKICAgICAgICB9LAogICAgICB9OwoKICAgICAgbGV0IHBlcmNlbnREb25lID0gZmlsZURhdGEuYnl0ZUxlbmd0aCA9PT0gMCA/CiAgICAgICAgICAxMDAgOgogICAgICAgICAgTWF0aC5yb3VuZCgocG9zaXRpb24gLyBmaWxlRGF0YS5ieXRlTGVuZ3RoKSAqIDEwMCk7CiAgICAgIHBlcmNlbnQudGV4dENvbnRlbnQgPSBgJHtwZXJjZW50RG9uZX0lIGRvbmVgOwoKICAgIH0gd2hpbGUgKHBvc2l0aW9uIDwgZmlsZURhdGEuYnl0ZUxlbmd0aCk7CiAgfQoKICAvLyBBbGwgZG9uZS4KICB5aWVsZCB7CiAgICByZXNwb25zZTogewogICAgICBhY3Rpb246ICdjb21wbGV0ZScsCiAgICB9CiAgfTsKfQoKc2NvcGUuZ29vZ2xlID0gc2NvcGUuZ29vZ2xlIHx8IHt9OwpzY29wZS5nb29nbGUuY29sYWIgPSBzY29wZS5nb29nbGUuY29sYWIgfHwge307CnNjb3BlLmdvb2dsZS5jb2xhYi5fZmlsZXMgPSB7CiAgX3VwbG9hZEZpbGVzLAogIF91cGxvYWRGaWxlc0NvbnRpbnVlLAp9Owp9KShzZWxmKTsK",
              "ok": true,
              "headers": [
                [
                  "content-type",
                  "application/javascript"
                ]
              ],
              "status": 200,
              "status_text": ""
            }
          },
          "base_uri": "https://localhost:8080/",
          "height": 72
        }
      },
      "source": [
        "uploaded = files.upload()"
      ],
      "execution_count": null,
      "outputs": [
        {
          "output_type": "display_data",
          "data": {
            "text/html": [
              "\n",
              "     <input type=\"file\" id=\"files-71991507-c7fa-4592-ab3c-930be32d6954\" name=\"files[]\" multiple disabled\n",
              "        style=\"border:none\" />\n",
              "     <output id=\"result-71991507-c7fa-4592-ab3c-930be32d6954\">\n",
              "      Upload widget is only available when the cell has been executed in the\n",
              "      current browser session. Please rerun this cell to enable.\n",
              "      </output>\n",
              "      <script src=\"/nbextensions/google.colab/files.js\"></script> "
            ],
            "text/plain": [
              "<IPython.core.display.HTML object>"
            ]
          },
          "metadata": {}
        },
        {
          "output_type": "stream",
          "name": "stdout",
          "text": [
            "Saving trees.csv to trees.csv\n"
          ]
        }
      ]
    },
    {
      "cell_type": "code",
      "metadata": {
        "id": "IUa5j4OAXPAo",
        "outputId": "dd3448e9-6bbc-40b3-cb0e-fb8132156f5f",
        "colab": {
          "base_uri": "https://localhost:8080/",
          "height": 1000
        }
      },
      "source": [
        "trees = pd.read_csv(io.StringIO(uploaded['trees.csv'].decode('utf-8')),index_col=0)\n",
        "trees"
      ],
      "execution_count": null,
      "outputs": [
        {
          "output_type": "execute_result",
          "data": {
            "text/html": [
              "<div>\n",
              "<style scoped>\n",
              "    .dataframe tbody tr th:only-of-type {\n",
              "        vertical-align: middle;\n",
              "    }\n",
              "\n",
              "    .dataframe tbody tr th {\n",
              "        vertical-align: top;\n",
              "    }\n",
              "\n",
              "    .dataframe thead th {\n",
              "        text-align: right;\n",
              "    }\n",
              "</style>\n",
              "<table border=\"1\" class=\"dataframe\">\n",
              "  <thead>\n",
              "    <tr style=\"text-align: right;\">\n",
              "      <th></th>\n",
              "      <th>C</th>\n",
              "      <th>A</th>\n",
              "      <th>V</th>\n",
              "    </tr>\n",
              "  </thead>\n",
              "  <tbody>\n",
              "    <tr>\n",
              "      <th>1</th>\n",
              "      <td>8.3</td>\n",
              "      <td>70</td>\n",
              "      <td>10.3</td>\n",
              "    </tr>\n",
              "    <tr>\n",
              "      <th>2</th>\n",
              "      <td>8.6</td>\n",
              "      <td>65</td>\n",
              "      <td>10.3</td>\n",
              "    </tr>\n",
              "    <tr>\n",
              "      <th>3</th>\n",
              "      <td>8.8</td>\n",
              "      <td>63</td>\n",
              "      <td>10.2</td>\n",
              "    </tr>\n",
              "    <tr>\n",
              "      <th>4</th>\n",
              "      <td>10.5</td>\n",
              "      <td>72</td>\n",
              "      <td>16.4</td>\n",
              "    </tr>\n",
              "    <tr>\n",
              "      <th>5</th>\n",
              "      <td>10.7</td>\n",
              "      <td>81</td>\n",
              "      <td>18.8</td>\n",
              "    </tr>\n",
              "    <tr>\n",
              "      <th>6</th>\n",
              "      <td>10.8</td>\n",
              "      <td>83</td>\n",
              "      <td>NaN</td>\n",
              "    </tr>\n",
              "    <tr>\n",
              "      <th>7</th>\n",
              "      <td>11.0</td>\n",
              "      <td>66</td>\n",
              "      <td>15.6</td>\n",
              "    </tr>\n",
              "    <tr>\n",
              "      <th>8</th>\n",
              "      <td>11.0</td>\n",
              "      <td>75</td>\n",
              "      <td>18.2</td>\n",
              "    </tr>\n",
              "    <tr>\n",
              "      <th>9</th>\n",
              "      <td>11.1</td>\n",
              "      <td>80</td>\n",
              "      <td>22.6</td>\n",
              "    </tr>\n",
              "    <tr>\n",
              "      <th>10</th>\n",
              "      <td>11.2</td>\n",
              "      <td>75</td>\n",
              "      <td>19.9</td>\n",
              "    </tr>\n",
              "    <tr>\n",
              "      <th>11</th>\n",
              "      <td>11.3</td>\n",
              "      <td>79</td>\n",
              "      <td>24.2</td>\n",
              "    </tr>\n",
              "    <tr>\n",
              "      <th>12</th>\n",
              "      <td>11.4</td>\n",
              "      <td>76</td>\n",
              "      <td>21.0</td>\n",
              "    </tr>\n",
              "    <tr>\n",
              "      <th>13</th>\n",
              "      <td>11.4</td>\n",
              "      <td>76</td>\n",
              "      <td>21.4</td>\n",
              "    </tr>\n",
              "    <tr>\n",
              "      <th>14</th>\n",
              "      <td>11.7</td>\n",
              "      <td>69</td>\n",
              "      <td>21.3</td>\n",
              "    </tr>\n",
              "    <tr>\n",
              "      <th>15</th>\n",
              "      <td>12.0</td>\n",
              "      <td>75</td>\n",
              "      <td>19.1</td>\n",
              "    </tr>\n",
              "    <tr>\n",
              "      <th>16</th>\n",
              "      <td>12.9</td>\n",
              "      <td>74</td>\n",
              "      <td>22.2</td>\n",
              "    </tr>\n",
              "    <tr>\n",
              "      <th>17</th>\n",
              "      <td>12.9</td>\n",
              "      <td>85</td>\n",
              "      <td>33.8</td>\n",
              "    </tr>\n",
              "    <tr>\n",
              "      <th>18</th>\n",
              "      <td>13.3</td>\n",
              "      <td>86</td>\n",
              "      <td>27.4</td>\n",
              "    </tr>\n",
              "    <tr>\n",
              "      <th>19</th>\n",
              "      <td>13.7</td>\n",
              "      <td>71</td>\n",
              "      <td>25.7</td>\n",
              "    </tr>\n",
              "    <tr>\n",
              "      <th>20</th>\n",
              "      <td>13.8</td>\n",
              "      <td>64</td>\n",
              "      <td>24.9</td>\n",
              "    </tr>\n",
              "    <tr>\n",
              "      <th>21</th>\n",
              "      <td>14.0</td>\n",
              "      <td>78</td>\n",
              "      <td>34.5</td>\n",
              "    </tr>\n",
              "    <tr>\n",
              "      <th>22</th>\n",
              "      <td>14.2</td>\n",
              "      <td>80</td>\n",
              "      <td>31.7</td>\n",
              "    </tr>\n",
              "    <tr>\n",
              "      <th>23</th>\n",
              "      <td>14.5</td>\n",
              "      <td>74</td>\n",
              "      <td>36.3</td>\n",
              "    </tr>\n",
              "    <tr>\n",
              "      <th>24</th>\n",
              "      <td>16.0</td>\n",
              "      <td>72</td>\n",
              "      <td>38.3</td>\n",
              "    </tr>\n",
              "    <tr>\n",
              "      <th>25</th>\n",
              "      <td>16.3</td>\n",
              "      <td>77</td>\n",
              "      <td>42.6</td>\n",
              "    </tr>\n",
              "    <tr>\n",
              "      <th>26</th>\n",
              "      <td>17.3</td>\n",
              "      <td>81</td>\n",
              "      <td>55.4</td>\n",
              "    </tr>\n",
              "    <tr>\n",
              "      <th>27</th>\n",
              "      <td>17.5</td>\n",
              "      <td>82</td>\n",
              "      <td>55.7</td>\n",
              "    </tr>\n",
              "    <tr>\n",
              "      <th>28</th>\n",
              "      <td>17.9</td>\n",
              "      <td>80</td>\n",
              "      <td>58.3</td>\n",
              "    </tr>\n",
              "    <tr>\n",
              "      <th>29</th>\n",
              "      <td>18.0</td>\n",
              "      <td>80</td>\n",
              "      <td>51.5</td>\n",
              "    </tr>\n",
              "    <tr>\n",
              "      <th>30</th>\n",
              "      <td>18.0</td>\n",
              "      <td>80</td>\n",
              "      <td>51.0</td>\n",
              "    </tr>\n",
              "    <tr>\n",
              "      <th>31</th>\n",
              "      <td>20.6</td>\n",
              "      <td>87</td>\n",
              "      <td>77.0</td>\n",
              "    </tr>\n",
              "  </tbody>\n",
              "</table>\n",
              "</div>"
            ],
            "text/plain": [
              "       C   A     V\n",
              "1    8.3  70  10.3\n",
              "2    8.6  65  10.3\n",
              "3    8.8  63  10.2\n",
              "4   10.5  72  16.4\n",
              "5   10.7  81  18.8\n",
              "6   10.8  83   NaN\n",
              "7   11.0  66  15.6\n",
              "8   11.0  75  18.2\n",
              "9   11.1  80  22.6\n",
              "10  11.2  75  19.9\n",
              "11  11.3  79  24.2\n",
              "12  11.4  76  21.0\n",
              "13  11.4  76  21.4\n",
              "14  11.7  69  21.3\n",
              "15  12.0  75  19.1\n",
              "16  12.9  74  22.2\n",
              "17  12.9  85  33.8\n",
              "18  13.3  86  27.4\n",
              "19  13.7  71  25.7\n",
              "20  13.8  64  24.9\n",
              "21  14.0  78  34.5\n",
              "22  14.2  80  31.7\n",
              "23  14.5  74  36.3\n",
              "24  16.0  72  38.3\n",
              "25  16.3  77  42.6\n",
              "26  17.3  81  55.4\n",
              "27  17.5  82  55.7\n",
              "28  17.9  80  58.3\n",
              "29  18.0  80  51.5\n",
              "30  18.0  80  51.0\n",
              "31  20.6  87  77.0"
            ]
          },
          "metadata": {},
          "execution_count": 3
        }
      ]
    },
    {
      "cell_type": "markdown",
      "metadata": {
        "id": "JpA-HgZXdO5v"
      },
      "source": [
        "Notemos que no tenemos el volumen de algunos árboles."
      ]
    },
    {
      "cell_type": "code",
      "metadata": {
        "id": "vF7y-nlhlTvu",
        "outputId": "09e2fcdb-bde0-4378-d229-9e98ab90a08d",
        "colab": {
          "base_uri": "https://localhost:8080/",
          "height": 80
        }
      },
      "source": [
        "# datos sin volúmen\n",
        "trees[trees.V.isna()]"
      ],
      "execution_count": null,
      "outputs": [
        {
          "output_type": "execute_result",
          "data": {
            "text/html": [
              "<div>\n",
              "<style scoped>\n",
              "    .dataframe tbody tr th:only-of-type {\n",
              "        vertical-align: middle;\n",
              "    }\n",
              "\n",
              "    .dataframe tbody tr th {\n",
              "        vertical-align: top;\n",
              "    }\n",
              "\n",
              "    .dataframe thead th {\n",
              "        text-align: right;\n",
              "    }\n",
              "</style>\n",
              "<table border=\"1\" class=\"dataframe\">\n",
              "  <thead>\n",
              "    <tr style=\"text-align: right;\">\n",
              "      <th></th>\n",
              "      <th>C</th>\n",
              "      <th>A</th>\n",
              "      <th>V</th>\n",
              "    </tr>\n",
              "  </thead>\n",
              "  <tbody>\n",
              "    <tr>\n",
              "      <th>6</th>\n",
              "      <td>10.8</td>\n",
              "      <td>83</td>\n",
              "      <td>NaN</td>\n",
              "    </tr>\n",
              "  </tbody>\n",
              "</table>\n",
              "</div>"
            ],
            "text/plain": [
              "      C   A   V\n",
              "6  10.8  83 NaN"
            ]
          },
          "metadata": {
            "tags": []
          },
          "execution_count": 93
        }
      ]
    },
    {
      "cell_type": "markdown",
      "metadata": {
        "id": "5iCI-yhzqNxw"
      },
      "source": [
        "Sin embargo, podemos obtener estimaciones de sus volúmnes aplicando la regresión por k-vecinos más cercanos. Antes de empezar, grafiquemos los datos."
      ]
    },
    {
      "cell_type": "code",
      "metadata": {
        "id": "TfgEL35AeQcs",
        "outputId": "493bf343-d0b9-41bf-b5db-01c7fed7fe87",
        "colab": {
          "base_uri": "https://localhost:8080/",
          "height": 308
        }
      },
      "source": [
        "# Árboles con volúmen\n",
        "plt.scatter(x = trees.C,\n",
        "            y = trees.A,\n",
        "            c = trees.V,\n",
        "            cmap='viridis')\n",
        "cbar = plt.colorbar()\n",
        "cbar.ax.set_title(\"Volúmen\")\n",
        "\n",
        "# Árboles sin volúmen\n",
        "plt.scatter(x = trees[trees.V.isna()].C,\n",
        "            y = trees[trees.V.isna()].A,\n",
        "            color = 'red')\n",
        "\n",
        "plt.suptitle(\"Árboles: Altura, Circunferencia y Volúmen\", fontweight = 'bold')\n",
        "plt.xlabel(\"Circunferencia\")\n",
        "plt.ylabel(\"Altura\")\n",
        "plt.show()"
      ],
      "execution_count": null,
      "outputs": [
        {
          "output_type": "display_data",
          "data": {
            "image/png": "[encoded data removed]",
            "text/plain": [
              "<Figure size 432x288 with 2 Axes>"
            ]
          },
          "metadata": {
            "tags": []
          }
        }
      ]
    },
    {
      "cell_type": "markdown",
      "metadata": {
        "id": "nHwj4yvMeKMM"
      },
      "source": [
        "Nuevamente, recordemos que nos interesa obtener los volúmenes de los siguientes árboles."
      ]
    },
    {
      "cell_type": "code",
      "metadata": {
        "id": "lL1d0zT2zWa9",
        "outputId": "1170e99e-bfd5-4fd6-c87e-9b2408792189",
        "colab": {
          "base_uri": "https://localhost:8080/",
          "height": 80
        }
      },
      "source": [
        "# datos sin volúmen\n",
        "trees[trees.V.isna()]"
      ],
      "execution_count": null,
      "outputs": [
        {
          "output_type": "execute_result",
          "data": {
            "text/html": [
              "<div>\n",
              "<style scoped>\n",
              "    .dataframe tbody tr th:only-of-type {\n",
              "        vertical-align: middle;\n",
              "    }\n",
              "\n",
              "    .dataframe tbody tr th {\n",
              "        vertical-align: top;\n",
              "    }\n",
              "\n",
              "    .dataframe thead th {\n",
              "        text-align: right;\n",
              "    }\n",
              "</style>\n",
              "<table border=\"1\" class=\"dataframe\">\n",
              "  <thead>\n",
              "    <tr style=\"text-align: right;\">\n",
              "      <th></th>\n",
              "      <th>C</th>\n",
              "      <th>A</th>\n",
              "      <th>V</th>\n",
              "    </tr>\n",
              "  </thead>\n",
              "  <tbody>\n",
              "    <tr>\n",
              "      <th>6</th>\n",
              "      <td>10.8</td>\n",
              "      <td>83</td>\n",
              "      <td>NaN</td>\n",
              "    </tr>\n",
              "  </tbody>\n",
              "</table>\n",
              "</div>"
            ],
            "text/plain": [
              "      C   A   V\n",
              "6  10.8  83 NaN"
            ]
          },
          "metadata": {
            "tags": []
          },
          "execution_count": 95
        }
      ]
    },
    {
      "cell_type": "markdown",
      "metadata": {
        "id": "E8gYOwQyzlnl"
      },
      "source": [
        "Empecemos estimando el volúmen del primer árbol, el árbol número 6. Si volvemos al gráfico, podemos ver que hay árboles que tienen circunferencia y áltura próximos. Árboles que además parecen tener volúmenes similares."
      ]
    },
    {
      "cell_type": "code",
      "metadata": {
        "id": "yFQIIW8zz2fU",
        "outputId": "aecfe165-8b7b-4b9c-97d0-9dba46c6f4a2",
        "colab": {
          "base_uri": "https://localhost:8080/",
          "height": 308
        }
      },
      "source": [
        "# Árboles con volúmen\n",
        "plt.scatter(x = trees.C,\n",
        "            y = trees.A,\n",
        "            c = trees.V,\n",
        "            cmap='viridis')\n",
        "cbar = plt.colorbar()\n",
        "cbar.ax.set_title(\"Volúmen\")\n",
        "\n",
        "# Árboles nro 6\n",
        "plt.scatter(x = trees[trees.V.isna()].C[6],\n",
        "            y = trees[trees.V.isna()].A[6],\n",
        "            color = 'red')\n",
        "\n",
        "# OJO! A veces las apariencias engañan...\n",
        "#plt.axis('equal')\n",
        "\n",
        "plt.suptitle(\"Árboles: Altura, Circunferencia y Volúmen\", fontweight = 'bold')\n",
        "plt.xlabel(\"Circunferencia\")\n",
        "plt.ylabel(\"Altura\")\n",
        "plt.show()"
      ],
      "execution_count": null,
      "outputs": [
        {
          "output_type": "display_data",
          "data": {
            "image/png": "[encoded data removed]",
            "text/plain": [
              "<Figure size 432x288 with 2 Axes>"
            ]
          },
          "metadata": {
            "tags": []
          }
        }
      ]
    },
    {
      "cell_type": "markdown",
      "metadata": {
        "id": "AwmrGpz71Kkv"
      },
      "source": [
        "Formalicemos la estrategia de los k-vecinos más cercanos. Necesitamos identificar un cierto número de árboles cercanos al árbol 6 respecto a su circunferencia y altura. Para esto calculemos la distancia euclidanea entre el árbol 6 y los demás.\n",
        "\n",
        "Recordemos que la distancia euclidiana entre dos puntos $x=(x_1,x_2,...,x_p)$ y $z=(z_1,z_2,...,z_p)$ esta definida por:\n",
        "\n",
        "$$\n",
        "d(x,z) = \\sqrt{\\sum_{j=1}^{p}(x_j - z_j)^2}\n",
        "$$\n",
        "\n",
        "Luego, tenemos:"
      ]
    },
    {
      "cell_type": "code",
      "metadata": {
        "id": "2BmAofBh0VyL",
        "outputId": "de69fb30-fe42-47a2-e698-248b581a0f1e",
        "colab": {
          "base_uri": "https://localhost:8080/",
          "height": 1000
        }
      },
      "source": [
        "trees['dist_a_06'] = np.sqrt((trees.A-trees.A[6])**2+(trees.C-trees.C[6])**2)\n",
        "trees"
      ],
      "execution_count": null,
      "outputs": [
        {
          "output_type": "execute_result",
          "data": {
            "text/html": [
              "<div>\n",
              "<style scoped>\n",
              "    .dataframe tbody tr th:only-of-type {\n",
              "        vertical-align: middle;\n",
              "    }\n",
              "\n",
              "    .dataframe tbody tr th {\n",
              "        vertical-align: top;\n",
              "    }\n",
              "\n",
              "    .dataframe thead th {\n",
              "        text-align: right;\n",
              "    }\n",
              "</style>\n",
              "<table border=\"1\" class=\"dataframe\">\n",
              "  <thead>\n",
              "    <tr style=\"text-align: right;\">\n",
              "      <th></th>\n",
              "      <th>C</th>\n",
              "      <th>A</th>\n",
              "      <th>V</th>\n",
              "      <th>dist_a_06</th>\n",
              "    </tr>\n",
              "  </thead>\n",
              "  <tbody>\n",
              "    <tr>\n",
              "      <th>1</th>\n",
              "      <td>8.3</td>\n",
              "      <td>70</td>\n",
              "      <td>10.3</td>\n",
              "      <td>13.238202</td>\n",
              "    </tr>\n",
              "    <tr>\n",
              "      <th>2</th>\n",
              "      <td>8.6</td>\n",
              "      <td>65</td>\n",
              "      <td>10.3</td>\n",
              "      <td>18.133946</td>\n",
              "    </tr>\n",
              "    <tr>\n",
              "      <th>3</th>\n",
              "      <td>8.8</td>\n",
              "      <td>63</td>\n",
              "      <td>10.2</td>\n",
              "      <td>20.099751</td>\n",
              "    </tr>\n",
              "    <tr>\n",
              "      <th>4</th>\n",
              "      <td>10.5</td>\n",
              "      <td>72</td>\n",
              "      <td>16.4</td>\n",
              "      <td>11.004090</td>\n",
              "    </tr>\n",
              "    <tr>\n",
              "      <th>5</th>\n",
              "      <td>10.7</td>\n",
              "      <td>81</td>\n",
              "      <td>18.8</td>\n",
              "      <td>2.002498</td>\n",
              "    </tr>\n",
              "    <tr>\n",
              "      <th>6</th>\n",
              "      <td>10.8</td>\n",
              "      <td>83</td>\n",
              "      <td>NaN</td>\n",
              "      <td>0.000000</td>\n",
              "    </tr>\n",
              "    <tr>\n",
              "      <th>7</th>\n",
              "      <td>11.0</td>\n",
              "      <td>66</td>\n",
              "      <td>15.6</td>\n",
              "      <td>17.001176</td>\n",
              "    </tr>\n",
              "    <tr>\n",
              "      <th>8</th>\n",
              "      <td>11.0</td>\n",
              "      <td>75</td>\n",
              "      <td>18.2</td>\n",
              "      <td>8.002500</td>\n",
              "    </tr>\n",
              "    <tr>\n",
              "      <th>9</th>\n",
              "      <td>11.1</td>\n",
              "      <td>80</td>\n",
              "      <td>22.6</td>\n",
              "      <td>3.014963</td>\n",
              "    </tr>\n",
              "    <tr>\n",
              "      <th>10</th>\n",
              "      <td>11.2</td>\n",
              "      <td>75</td>\n",
              "      <td>19.9</td>\n",
              "      <td>8.009994</td>\n",
              "    </tr>\n",
              "    <tr>\n",
              "      <th>11</th>\n",
              "      <td>11.3</td>\n",
              "      <td>79</td>\n",
              "      <td>24.2</td>\n",
              "      <td>4.031129</td>\n",
              "    </tr>\n",
              "    <tr>\n",
              "      <th>12</th>\n",
              "      <td>11.4</td>\n",
              "      <td>76</td>\n",
              "      <td>21.0</td>\n",
              "      <td>7.025667</td>\n",
              "    </tr>\n",
              "    <tr>\n",
              "      <th>13</th>\n",
              "      <td>11.4</td>\n",
              "      <td>76</td>\n",
              "      <td>21.4</td>\n",
              "      <td>7.025667</td>\n",
              "    </tr>\n",
              "    <tr>\n",
              "      <th>14</th>\n",
              "      <td>11.7</td>\n",
              "      <td>69</td>\n",
              "      <td>21.3</td>\n",
              "      <td>14.028899</td>\n",
              "    </tr>\n",
              "    <tr>\n",
              "      <th>15</th>\n",
              "      <td>12.0</td>\n",
              "      <td>75</td>\n",
              "      <td>19.1</td>\n",
              "      <td>8.089499</td>\n",
              "    </tr>\n",
              "    <tr>\n",
              "      <th>16</th>\n",
              "      <td>12.9</td>\n",
              "      <td>74</td>\n",
              "      <td>22.2</td>\n",
              "      <td>9.241753</td>\n",
              "    </tr>\n",
              "    <tr>\n",
              "      <th>17</th>\n",
              "      <td>12.9</td>\n",
              "      <td>85</td>\n",
              "      <td>33.8</td>\n",
              "      <td>2.900000</td>\n",
              "    </tr>\n",
              "    <tr>\n",
              "      <th>18</th>\n",
              "      <td>13.3</td>\n",
              "      <td>86</td>\n",
              "      <td>27.4</td>\n",
              "      <td>3.905125</td>\n",
              "    </tr>\n",
              "    <tr>\n",
              "      <th>19</th>\n",
              "      <td>13.7</td>\n",
              "      <td>71</td>\n",
              "      <td>25.7</td>\n",
              "      <td>12.345445</td>\n",
              "    </tr>\n",
              "    <tr>\n",
              "      <th>20</th>\n",
              "      <td>13.8</td>\n",
              "      <td>64</td>\n",
              "      <td>24.9</td>\n",
              "      <td>19.235384</td>\n",
              "    </tr>\n",
              "    <tr>\n",
              "      <th>21</th>\n",
              "      <td>14.0</td>\n",
              "      <td>78</td>\n",
              "      <td>34.5</td>\n",
              "      <td>5.936329</td>\n",
              "    </tr>\n",
              "    <tr>\n",
              "      <th>22</th>\n",
              "      <td>14.2</td>\n",
              "      <td>80</td>\n",
              "      <td>31.7</td>\n",
              "      <td>4.534314</td>\n",
              "    </tr>\n",
              "    <tr>\n",
              "      <th>23</th>\n",
              "      <td>14.5</td>\n",
              "      <td>74</td>\n",
              "      <td>36.3</td>\n",
              "      <td>9.730879</td>\n",
              "    </tr>\n",
              "    <tr>\n",
              "      <th>24</th>\n",
              "      <td>16.0</td>\n",
              "      <td>72</td>\n",
              "      <td>38.3</td>\n",
              "      <td>12.167169</td>\n",
              "    </tr>\n",
              "    <tr>\n",
              "      <th>25</th>\n",
              "      <td>16.3</td>\n",
              "      <td>77</td>\n",
              "      <td>42.6</td>\n",
              "      <td>8.139410</td>\n",
              "    </tr>\n",
              "    <tr>\n",
              "      <th>26</th>\n",
              "      <td>17.3</td>\n",
              "      <td>81</td>\n",
              "      <td>55.4</td>\n",
              "      <td>6.800735</td>\n",
              "    </tr>\n",
              "    <tr>\n",
              "      <th>27</th>\n",
              "      <td>17.5</td>\n",
              "      <td>82</td>\n",
              "      <td>55.7</td>\n",
              "      <td>6.774216</td>\n",
              "    </tr>\n",
              "    <tr>\n",
              "      <th>28</th>\n",
              "      <td>17.9</td>\n",
              "      <td>80</td>\n",
              "      <td>58.3</td>\n",
              "      <td>7.707788</td>\n",
              "    </tr>\n",
              "    <tr>\n",
              "      <th>29</th>\n",
              "      <td>18.0</td>\n",
              "      <td>80</td>\n",
              "      <td>51.5</td>\n",
              "      <td>7.800000</td>\n",
              "    </tr>\n",
              "    <tr>\n",
              "      <th>30</th>\n",
              "      <td>18.0</td>\n",
              "      <td>80</td>\n",
              "      <td>51.0</td>\n",
              "      <td>7.800000</td>\n",
              "    </tr>\n",
              "    <tr>\n",
              "      <th>31</th>\n",
              "      <td>20.6</td>\n",
              "      <td>87</td>\n",
              "      <td>77.0</td>\n",
              "      <td>10.584895</td>\n",
              "    </tr>\n",
              "  </tbody>\n",
              "</table>\n",
              "</div>"
            ],
            "text/plain": [
              "       C   A     V  dist_a_06\n",
              "1    8.3  70  10.3  13.238202\n",
              "2    8.6  65  10.3  18.133946\n",
              "3    8.8  63  10.2  20.099751\n",
              "4   10.5  72  16.4  11.004090\n",
              "5   10.7  81  18.8   2.002498\n",
              "6   10.8  83   NaN   0.000000\n",
              "7   11.0  66  15.6  17.001176\n",
              "8   11.0  75  18.2   8.002500\n",
              "9   11.1  80  22.6   3.014963\n",
              "10  11.2  75  19.9   8.009994\n",
              "11  11.3  79  24.2   4.031129\n",
              "12  11.4  76  21.0   7.025667\n",
              "13  11.4  76  21.4   7.025667\n",
              "14  11.7  69  21.3  14.028899\n",
              "15  12.0  75  19.1   8.089499\n",
              "16  12.9  74  22.2   9.241753\n",
              "17  12.9  85  33.8   2.900000\n",
              "18  13.3  86  27.4   3.905125\n",
              "19  13.7  71  25.7  12.345445\n",
              "20  13.8  64  24.9  19.235384\n",
              "21  14.0  78  34.5   5.936329\n",
              "22  14.2  80  31.7   4.534314\n",
              "23  14.5  74  36.3   9.730879\n",
              "24  16.0  72  38.3  12.167169\n",
              "25  16.3  77  42.6   8.139410\n",
              "26  17.3  81  55.4   6.800735\n",
              "27  17.5  82  55.7   6.774216\n",
              "28  17.9  80  58.3   7.707788\n",
              "29  18.0  80  51.5   7.800000\n",
              "30  18.0  80  51.0   7.800000\n",
              "31  20.6  87  77.0  10.584895"
            ]
          },
          "metadata": {
            "tags": []
          },
          "execution_count": 97
        }
      ]
    },
    {
      "cell_type": "markdown",
      "metadata": {
        "id": "Fyw7BrcB55ri"
      },
      "source": [
        "Ahora ordenemos los árboles respecto a su distiancia con el árbol 6, desde el más cercano hasta el más lejano."
      ]
    },
    {
      "cell_type": "code",
      "metadata": {
        "id": "Zp6f9mNL4oq4",
        "outputId": "bcca6dd0-f7a9-4494-ecae-3b26c618d9ad",
        "colab": {
          "base_uri": "https://localhost:8080/",
          "height": 1000
        }
      },
      "source": [
        "trees.sort_values(by=\"dist_a_06\")"
      ],
      "execution_count": null,
      "outputs": [
        {
          "output_type": "execute_result",
          "data": {
            "text/html": [
              "<div>\n",
              "<style scoped>\n",
              "    .dataframe tbody tr th:only-of-type {\n",
              "        vertical-align: middle;\n",
              "    }\n",
              "\n",
              "    .dataframe tbody tr th {\n",
              "        vertical-align: top;\n",
              "    }\n",
              "\n",
              "    .dataframe thead th {\n",
              "        text-align: right;\n",
              "    }\n",
              "</style>\n",
              "<table border=\"1\" class=\"dataframe\">\n",
              "  <thead>\n",
              "    <tr style=\"text-align: right;\">\n",
              "      <th></th>\n",
              "      <th>C</th>\n",
              "      <th>A</th>\n",
              "      <th>V</th>\n",
              "      <th>dist_a_06</th>\n",
              "    </tr>\n",
              "  </thead>\n",
              "  <tbody>\n",
              "    <tr>\n",
              "      <th>6</th>\n",
              "      <td>10.8</td>\n",
              "      <td>83</td>\n",
              "      <td>NaN</td>\n",
              "      <td>0.000000</td>\n",
              "    </tr>\n",
              "    <tr>\n",
              "      <th>5</th>\n",
              "      <td>10.7</td>\n",
              "      <td>81</td>\n",
              "      <td>18.8</td>\n",
              "      <td>2.002498</td>\n",
              "    </tr>\n",
              "    <tr>\n",
              "      <th>17</th>\n",
              "      <td>12.9</td>\n",
              "      <td>85</td>\n",
              "      <td>33.8</td>\n",
              "      <td>2.900000</td>\n",
              "    </tr>\n",
              "    <tr>\n",
              "      <th>9</th>\n",
              "      <td>11.1</td>\n",
              "      <td>80</td>\n",
              "      <td>22.6</td>\n",
              "      <td>3.014963</td>\n",
              "    </tr>\n",
              "    <tr>\n",
              "      <th>18</th>\n",
              "      <td>13.3</td>\n",
              "      <td>86</td>\n",
              "      <td>27.4</td>\n",
              "      <td>3.905125</td>\n",
              "    </tr>\n",
              "    <tr>\n",
              "      <th>11</th>\n",
              "      <td>11.3</td>\n",
              "      <td>79</td>\n",
              "      <td>24.2</td>\n",
              "      <td>4.031129</td>\n",
              "    </tr>\n",
              "    <tr>\n",
              "      <th>22</th>\n",
              "      <td>14.2</td>\n",
              "      <td>80</td>\n",
              "      <td>31.7</td>\n",
              "      <td>4.534314</td>\n",
              "    </tr>\n",
              "    <tr>\n",
              "      <th>21</th>\n",
              "      <td>14.0</td>\n",
              "      <td>78</td>\n",
              "      <td>34.5</td>\n",
              "      <td>5.936329</td>\n",
              "    </tr>\n",
              "    <tr>\n",
              "      <th>27</th>\n",
              "      <td>17.5</td>\n",
              "      <td>82</td>\n",
              "      <td>55.7</td>\n",
              "      <td>6.774216</td>\n",
              "    </tr>\n",
              "    <tr>\n",
              "      <th>26</th>\n",
              "      <td>17.3</td>\n",
              "      <td>81</td>\n",
              "      <td>55.4</td>\n",
              "      <td>6.800735</td>\n",
              "    </tr>\n",
              "    <tr>\n",
              "      <th>12</th>\n",
              "      <td>11.4</td>\n",
              "      <td>76</td>\n",
              "      <td>21.0</td>\n",
              "      <td>7.025667</td>\n",
              "    </tr>\n",
              "    <tr>\n",
              "      <th>13</th>\n",
              "      <td>11.4</td>\n",
              "      <td>76</td>\n",
              "      <td>21.4</td>\n",
              "      <td>7.025667</td>\n",
              "    </tr>\n",
              "    <tr>\n",
              "      <th>28</th>\n",
              "      <td>17.9</td>\n",
              "      <td>80</td>\n",
              "      <td>58.3</td>\n",
              "      <td>7.707788</td>\n",
              "    </tr>\n",
              "    <tr>\n",
              "      <th>30</th>\n",
              "      <td>18.0</td>\n",
              "      <td>80</td>\n",
              "      <td>51.0</td>\n",
              "      <td>7.800000</td>\n",
              "    </tr>\n",
              "    <tr>\n",
              "      <th>29</th>\n",
              "      <td>18.0</td>\n",
              "      <td>80</td>\n",
              "      <td>51.5</td>\n",
              "      <td>7.800000</td>\n",
              "    </tr>\n",
              "    <tr>\n",
              "      <th>8</th>\n",
              "      <td>11.0</td>\n",
              "      <td>75</td>\n",
              "      <td>18.2</td>\n",
              "      <td>8.002500</td>\n",
              "    </tr>\n",
              "    <tr>\n",
              "      <th>10</th>\n",
              "      <td>11.2</td>\n",
              "      <td>75</td>\n",
              "      <td>19.9</td>\n",
              "      <td>8.009994</td>\n",
              "    </tr>\n",
              "    <tr>\n",
              "      <th>15</th>\n",
              "      <td>12.0</td>\n",
              "      <td>75</td>\n",
              "      <td>19.1</td>\n",
              "      <td>8.089499</td>\n",
              "    </tr>\n",
              "    <tr>\n",
              "      <th>25</th>\n",
              "      <td>16.3</td>\n",
              "      <td>77</td>\n",
              "      <td>42.6</td>\n",
              "      <td>8.139410</td>\n",
              "    </tr>\n",
              "    <tr>\n",
              "      <th>16</th>\n",
              "      <td>12.9</td>\n",
              "      <td>74</td>\n",
              "      <td>22.2</td>\n",
              "      <td>9.241753</td>\n",
              "    </tr>\n",
              "    <tr>\n",
              "      <th>23</th>\n",
              "      <td>14.5</td>\n",
              "      <td>74</td>\n",
              "      <td>36.3</td>\n",
              "      <td>9.730879</td>\n",
              "    </tr>\n",
              "    <tr>\n",
              "      <th>31</th>\n",
              "      <td>20.6</td>\n",
              "      <td>87</td>\n",
              "      <td>77.0</td>\n",
              "      <td>10.584895</td>\n",
              "    </tr>\n",
              "    <tr>\n",
              "      <th>4</th>\n",
              "      <td>10.5</td>\n",
              "      <td>72</td>\n",
              "      <td>16.4</td>\n",
              "      <td>11.004090</td>\n",
              "    </tr>\n",
              "    <tr>\n",
              "      <th>24</th>\n",
              "      <td>16.0</td>\n",
              "      <td>72</td>\n",
              "      <td>38.3</td>\n",
              "      <td>12.167169</td>\n",
              "    </tr>\n",
              "    <tr>\n",
              "      <th>19</th>\n",
              "      <td>13.7</td>\n",
              "      <td>71</td>\n",
              "      <td>25.7</td>\n",
              "      <td>12.345445</td>\n",
              "    </tr>\n",
              "    <tr>\n",
              "      <th>1</th>\n",
              "      <td>8.3</td>\n",
              "      <td>70</td>\n",
              "      <td>10.3</td>\n",
              "      <td>13.238202</td>\n",
              "    </tr>\n",
              "    <tr>\n",
              "      <th>14</th>\n",
              "      <td>11.7</td>\n",
              "      <td>69</td>\n",
              "      <td>21.3</td>\n",
              "      <td>14.028899</td>\n",
              "    </tr>\n",
              "    <tr>\n",
              "      <th>7</th>\n",
              "      <td>11.0</td>\n",
              "      <td>66</td>\n",
              "      <td>15.6</td>\n",
              "      <td>17.001176</td>\n",
              "    </tr>\n",
              "    <tr>\n",
              "      <th>2</th>\n",
              "      <td>8.6</td>\n",
              "      <td>65</td>\n",
              "      <td>10.3</td>\n",
              "      <td>18.133946</td>\n",
              "    </tr>\n",
              "    <tr>\n",
              "      <th>20</th>\n",
              "      <td>13.8</td>\n",
              "      <td>64</td>\n",
              "      <td>24.9</td>\n",
              "      <td>19.235384</td>\n",
              "    </tr>\n",
              "    <tr>\n",
              "      <th>3</th>\n",
              "      <td>8.8</td>\n",
              "      <td>63</td>\n",
              "      <td>10.2</td>\n",
              "      <td>20.099751</td>\n",
              "    </tr>\n",
              "  </tbody>\n",
              "</table>\n",
              "</div>"
            ],
            "text/plain": [
              "       C   A     V  dist_a_06\n",
              "6   10.8  83   NaN   0.000000\n",
              "5   10.7  81  18.8   2.002498\n",
              "17  12.9  85  33.8   2.900000\n",
              "9   11.1  80  22.6   3.014963\n",
              "18  13.3  86  27.4   3.905125\n",
              "11  11.3  79  24.2   4.031129\n",
              "22  14.2  80  31.7   4.534314\n",
              "21  14.0  78  34.5   5.936329\n",
              "27  17.5  82  55.7   6.774216\n",
              "26  17.3  81  55.4   6.800735\n",
              "12  11.4  76  21.0   7.025667\n",
              "13  11.4  76  21.4   7.025667\n",
              "28  17.9  80  58.3   7.707788\n",
              "30  18.0  80  51.0   7.800000\n",
              "29  18.0  80  51.5   7.800000\n",
              "8   11.0  75  18.2   8.002500\n",
              "10  11.2  75  19.9   8.009994\n",
              "15  12.0  75  19.1   8.089499\n",
              "25  16.3  77  42.6   8.139410\n",
              "16  12.9  74  22.2   9.241753\n",
              "23  14.5  74  36.3   9.730879\n",
              "31  20.6  87  77.0  10.584895\n",
              "4   10.5  72  16.4  11.004090\n",
              "24  16.0  72  38.3  12.167169\n",
              "19  13.7  71  25.7  12.345445\n",
              "1    8.3  70  10.3  13.238202\n",
              "14  11.7  69  21.3  14.028899\n",
              "7   11.0  66  15.6  17.001176\n",
              "2    8.6  65  10.3  18.133946\n",
              "20  13.8  64  24.9  19.235384\n",
              "3    8.8  63  10.2  20.099751"
            ]
          },
          "metadata": {
            "tags": []
          },
          "execution_count": 98
        }
      ]
    },
    {
      "cell_type": "markdown",
      "metadata": {
        "id": "qak7hiv261vQ"
      },
      "source": [
        "Ahora consideremos únicamente los 3 árboles más cercanos al árbol 6. Esto es, consideremos un vecindario con $K=3$.\n",
        "\n",
        "---\n",
        "\n"
      ]
    },
    {
      "cell_type": "code",
      "metadata": {
        "id": "TEbEfLfl6VcA",
        "outputId": "3e496bdf-3cb4-49a7-d0cc-d2de95f6709e",
        "colab": {
          "base_uri": "https://localhost:8080/",
          "height": 142
        }
      },
      "source": [
        "trees.sort_values(by=\"dist_a_06\")[1:4]"
      ],
      "execution_count": null,
      "outputs": [
        {
          "output_type": "execute_result",
          "data": {
            "text/html": [
              "<div>\n",
              "<style scoped>\n",
              "    .dataframe tbody tr th:only-of-type {\n",
              "        vertical-align: middle;\n",
              "    }\n",
              "\n",
              "    .dataframe tbody tr th {\n",
              "        vertical-align: top;\n",
              "    }\n",
              "\n",
              "    .dataframe thead th {\n",
              "        text-align: right;\n",
              "    }\n",
              "</style>\n",
              "<table border=\"1\" class=\"dataframe\">\n",
              "  <thead>\n",
              "    <tr style=\"text-align: right;\">\n",
              "      <th></th>\n",
              "      <th>C</th>\n",
              "      <th>A</th>\n",
              "      <th>V</th>\n",
              "      <th>dist_a_06</th>\n",
              "    </tr>\n",
              "  </thead>\n",
              "  <tbody>\n",
              "    <tr>\n",
              "      <th>5</th>\n",
              "      <td>10.7</td>\n",
              "      <td>81</td>\n",
              "      <td>18.8</td>\n",
              "      <td>2.002498</td>\n",
              "    </tr>\n",
              "    <tr>\n",
              "      <th>17</th>\n",
              "      <td>12.9</td>\n",
              "      <td>85</td>\n",
              "      <td>33.8</td>\n",
              "      <td>2.900000</td>\n",
              "    </tr>\n",
              "    <tr>\n",
              "      <th>9</th>\n",
              "      <td>11.1</td>\n",
              "      <td>80</td>\n",
              "      <td>22.6</td>\n",
              "      <td>3.014963</td>\n",
              "    </tr>\n",
              "  </tbody>\n",
              "</table>\n",
              "</div>"
            ],
            "text/plain": [
              "       C   A     V  dist_a_06\n",
              "5   10.7  81  18.8   2.002498\n",
              "17  12.9  85  33.8   2.900000\n",
              "9   11.1  80  22.6   3.014963"
            ]
          },
          "metadata": {
            "tags": []
          },
          "execution_count": 99
        }
      ]
    },
    {
      "cell_type": "code",
      "metadata": {
        "id": "dZCeuvPN9q1K",
        "outputId": "1d0ef495-496c-4624-d822-fa34abde78d4",
        "colab": {
          "base_uri": "https://localhost:8080/",
          "height": 308
        }
      },
      "source": [
        "# Árboles con volúmen\n",
        "plt.scatter(x = trees.C,\n",
        "            y = trees.A,\n",
        "            c = trees.V,\n",
        "            cmap='viridis')\n",
        "cbar = plt.colorbar()\n",
        "cbar.ax.set_title(\"Volúmen\")\n",
        "\n",
        "# Árboles nro 6\n",
        "plt.scatter(x = trees[trees.V.isna()].C[6],\n",
        "            y = trees[trees.V.isna()].A[6],\n",
        "            color = 'red')\n",
        "\n",
        "# Árboles cercanos a 6\n",
        "plt.scatter(x = trees.sort_values(by=\"dist_a_06\")[1:4].C,\n",
        "            y = trees.sort_values(by=\"dist_a_06\")[1:4].A,\n",
        "            color = 'magenta')\n",
        "\n",
        "plt.axis('equal')\n",
        "plt.suptitle(\"Árboles: Altura, Circunferencia y Volúmen\", fontweight = 'bold')\n",
        "plt.xlabel(\"Circunferencia\")\n",
        "plt.ylabel(\"Altura\")\n",
        "plt.show()"
      ],
      "execution_count": null,
      "outputs": [
        {
          "output_type": "display_data",
          "data": {
            "image/png": "[encoded data removed]",
            "text/plain": [
              "<Figure size 432x288 with 2 Axes>"
            ]
          },
          "metadata": {
            "tags": []
          }
        }
      ]
    },
    {
      "cell_type": "markdown",
      "metadata": {
        "id": "fhdaBNRPDBOy"
      },
      "source": [
        "Genial, ahora podemos estimar el volúmen del árbol 6 promediando los volúmenes de sus vecinos. Es decir,\n",
        "\n",
        "$$\n",
        "\\hat{y}_6 = \\frac{1}{3}\\sum_{\\{i\\ |\\ \\mathbf{x}_i \\in N_3(\\mathbf{x}_6)\\}} y_i\n",
        "$$\n",
        "\n",
        "Calculando, tenemos:"
      ]
    },
    {
      "cell_type": "code",
      "metadata": {
        "id": "4DcPig47GgOh",
        "outputId": "ccecc716-5346-4384-ad8b-9b36032def22",
        "colab": {
          "base_uri": "https://localhost:8080/",
          "height": 34
        }
      },
      "source": [
        "# Promedio de volúmenes en el vecindario del árbol 6\n",
        "trees.sort_values(by=\"dist_a_06\")[1:4].V.mean()"
      ],
      "execution_count": null,
      "outputs": [
        {
          "output_type": "execute_result",
          "data": {
            "text/plain": [
              "25.066666666666663"
            ]
          },
          "metadata": {
            "tags": []
          },
          "execution_count": 101
        }
      ]
    },
    {
      "cell_type": "markdown",
      "metadata": {
        "id": "Ec0gMhmWIGS6"
      },
      "source": [
        "### Formalización del algoritmo"
      ]
    },
    {
      "cell_type": "markdown",
      "metadata": {
        "id": "lXptIrIwIMOF"
      },
      "source": [
        "Genial, con esta intuición podemos formalizar el algoritmo de regresión KNN.\n",
        "\n",
        "Sea $\\mathbf{x}$ un punto del cual deseamos obtener una estimación de su respuesta $\\hat{y}$. Dado un valor $K$ de vecinos, obtenemos la estimación como sigue.\n",
        "\n",
        "1. Calcular algún tipo de distancia entre $x$ y el resto de puntos de entrenamiento $\\{\\mathbf{x}_1,...,\\mathbf{x}_n\\}$\n",
        "2. Seleccionar los $K$ puntos más cercanos a $\\mathbf{x}$.\n",
        "3. Calcular la estimación $\\hat{y}$ promediando las respuestas de los $K$ vecinos más cercanos a $\\mathbf{x}$."
      ]
    },
    {
      "cell_type": "markdown",
      "metadata": {
        "id": "KdW2sY3KLJcZ"
      },
      "source": [
        "### Uso de librerias"
      ]
    },
    {
      "cell_type": "markdown",
      "metadata": {
        "id": "SA0ukfc7LQx4"
      },
      "source": [
        "Ya entendemos como funciona el algoritmo, ahora usemos una libreria que nos facilite los cálculos."
      ]
    },
    {
      "cell_type": "code",
      "metadata": {
        "id": "EFYdFZt1LOmT"
      },
      "source": [
        "# Primero debemos definir el conjunto de entrenamiento...\n",
        "X = trees[trees.V.notna()].loc[:,['C','A']]\n",
        "y = trees[trees.V.notna()].loc[:,['V']]"
      ],
      "execution_count": null,
      "outputs": []
    },
    {
      "cell_type": "code",
      "metadata": {
        "id": "P8Ztiz-JRg3Y",
        "outputId": "b4d793fa-4679-4606-cc5c-7671a9012b9d",
        "colab": {
          "base_uri": "https://localhost:8080/",
          "height": 204
        }
      },
      "source": [
        "X.head()"
      ],
      "execution_count": null,
      "outputs": [
        {
          "output_type": "execute_result",
          "data": {
            "text/html": [
              "<div>\n",
              "<style scoped>\n",
              "    .dataframe tbody tr th:only-of-type {\n",
              "        vertical-align: middle;\n",
              "    }\n",
              "\n",
              "    .dataframe tbody tr th {\n",
              "        vertical-align: top;\n",
              "    }\n",
              "\n",
              "    .dataframe thead th {\n",
              "        text-align: right;\n",
              "    }\n",
              "</style>\n",
              "<table border=\"1\" class=\"dataframe\">\n",
              "  <thead>\n",
              "    <tr style=\"text-align: right;\">\n",
              "      <th></th>\n",
              "      <th>C</th>\n",
              "      <th>A</th>\n",
              "    </tr>\n",
              "  </thead>\n",
              "  <tbody>\n",
              "    <tr>\n",
              "      <th>1</th>\n",
              "      <td>8.3</td>\n",
              "      <td>70</td>\n",
              "    </tr>\n",
              "    <tr>\n",
              "      <th>2</th>\n",
              "      <td>8.6</td>\n",
              "      <td>65</td>\n",
              "    </tr>\n",
              "    <tr>\n",
              "      <th>3</th>\n",
              "      <td>8.8</td>\n",
              "      <td>63</td>\n",
              "    </tr>\n",
              "    <tr>\n",
              "      <th>4</th>\n",
              "      <td>10.5</td>\n",
              "      <td>72</td>\n",
              "    </tr>\n",
              "    <tr>\n",
              "      <th>5</th>\n",
              "      <td>10.7</td>\n",
              "      <td>81</td>\n",
              "    </tr>\n",
              "  </tbody>\n",
              "</table>\n",
              "</div>"
            ],
            "text/plain": [
              "      C   A\n",
              "1   8.3  70\n",
              "2   8.6  65\n",
              "3   8.8  63\n",
              "4  10.5  72\n",
              "5  10.7  81"
            ]
          },
          "metadata": {},
          "execution_count": 5
        }
      ]
    },
    {
      "cell_type": "code",
      "metadata": {
        "id": "QdatnTlzRlQo",
        "outputId": "937ab8f9-fe3e-4ca9-c18b-7aa2be55a677",
        "colab": {
          "base_uri": "https://localhost:8080/",
          "height": 204
        }
      },
      "source": [
        "y.head()"
      ],
      "execution_count": null,
      "outputs": [
        {
          "output_type": "execute_result",
          "data": {
            "text/html": [
              "<div>\n",
              "<style scoped>\n",
              "    .dataframe tbody tr th:only-of-type {\n",
              "        vertical-align: middle;\n",
              "    }\n",
              "\n",
              "    .dataframe tbody tr th {\n",
              "        vertical-align: top;\n",
              "    }\n",
              "\n",
              "    .dataframe thead th {\n",
              "        text-align: right;\n",
              "    }\n",
              "</style>\n",
              "<table border=\"1\" class=\"dataframe\">\n",
              "  <thead>\n",
              "    <tr style=\"text-align: right;\">\n",
              "      <th></th>\n",
              "      <th>V</th>\n",
              "    </tr>\n",
              "  </thead>\n",
              "  <tbody>\n",
              "    <tr>\n",
              "      <th>1</th>\n",
              "      <td>10.3</td>\n",
              "    </tr>\n",
              "    <tr>\n",
              "      <th>2</th>\n",
              "      <td>10.3</td>\n",
              "    </tr>\n",
              "    <tr>\n",
              "      <th>3</th>\n",
              "      <td>10.2</td>\n",
              "    </tr>\n",
              "    <tr>\n",
              "      <th>4</th>\n",
              "      <td>16.4</td>\n",
              "    </tr>\n",
              "    <tr>\n",
              "      <th>5</th>\n",
              "      <td>18.8</td>\n",
              "    </tr>\n",
              "  </tbody>\n",
              "</table>\n",
              "</div>"
            ],
            "text/plain": [
              "      V\n",
              "1  10.3\n",
              "2  10.3\n",
              "3  10.2\n",
              "4  16.4\n",
              "5  18.8"
            ]
          },
          "metadata": {
            "tags": []
          },
          "execution_count": 106
        }
      ]
    },
    {
      "cell_type": "code",
      "metadata": {
        "id": "jruiX6AtPiXo",
        "outputId": "d04dabb9-8fd6-4a11-a814-fc01040097d4",
        "colab": {
          "base_uri": "https://localhost:8080/"
        }
      },
      "source": [
        "# Importar libreria\n",
        "from sklearn.neighbors import KNeighborsRegressor\n",
        "\n",
        "# Definición del modelo\n",
        "knn_reg = KNeighborsRegressor(n_neighbors=3)\n",
        "\n",
        "# Entrenamiento\n",
        "knn_reg.fit(X, y)"
      ],
      "execution_count": null,
      "outputs": [
        {
          "output_type": "execute_result",
          "data": {
            "text/plain": [
              "KNeighborsRegressor(n_neighbors=3)"
            ]
          },
          "metadata": {},
          "execution_count": 6
        }
      ]
    },
    {
      "cell_type": "code",
      "metadata": {
        "id": "iEdu9PRFR6wL",
        "outputId": "ce76f08b-68da-4e4c-8153-d8fc5d2bb99a",
        "colab": {
          "base_uri": "https://localhost:8080/",
          "height": 34
        }
      },
      "source": [
        "# Predicción (Datos del árbol 6)\n",
        "knn_reg.predict([[10.8,83]]).round(2)"
      ],
      "execution_count": null,
      "outputs": [
        {
          "output_type": "execute_result",
          "data": {
            "text/plain": [
              "array([[25.07]])"
            ]
          },
          "metadata": {
            "tags": []
          },
          "execution_count": 108
        }
      ]
    },
    {
      "cell_type": "markdown",
      "metadata": {
        "id": "1JZRQxb9deXo"
      },
      "source": [
        "Al parecer hicimos un buen trabajo. Sin embargo una forma de validar esto es imaginar que todos los datos de entrenamiento tienen volúmenes desconocidos. Luego, podemos estimar volúmenes y calcular una métrica de error."
      ]
    },
    {
      "cell_type": "code",
      "metadata": {
        "id": "8lfi91VzdlLY",
        "outputId": "7518d430-ad6f-4370-be06-213c760722f9",
        "colab": {
          "base_uri": "https://localhost:8080/",
          "height": 359
        }
      },
      "source": [
        "# Calcular estimaciones para todos los árboles\n",
        "my_trees_new = pd.DataFrame(pd.concat([X,y],axis=1))\n",
        "my_trees_new[\"V_hat\"] = knn_reg.predict(X.values).round(2)\n",
        "my_trees_new.head(10)"
      ],
      "execution_count": null,
      "outputs": [
        {
          "output_type": "execute_result",
          "data": {
            "text/html": [
              "<div>\n",
              "<style scoped>\n",
              "    .dataframe tbody tr th:only-of-type {\n",
              "        vertical-align: middle;\n",
              "    }\n",
              "\n",
              "    .dataframe tbody tr th {\n",
              "        vertical-align: top;\n",
              "    }\n",
              "\n",
              "    .dataframe thead th {\n",
              "        text-align: right;\n",
              "    }\n",
              "</style>\n",
              "<table border=\"1\" class=\"dataframe\">\n",
              "  <thead>\n",
              "    <tr style=\"text-align: right;\">\n",
              "      <th></th>\n",
              "      <th>C</th>\n",
              "      <th>A</th>\n",
              "      <th>V</th>\n",
              "      <th>V_hat</th>\n",
              "    </tr>\n",
              "  </thead>\n",
              "  <tbody>\n",
              "    <tr>\n",
              "      <th>1</th>\n",
              "      <td>8.3</td>\n",
              "      <td>70</td>\n",
              "      <td>10.3</td>\n",
              "      <td>16.00</td>\n",
              "    </tr>\n",
              "    <tr>\n",
              "      <th>2</th>\n",
              "      <td>8.6</td>\n",
              "      <td>65</td>\n",
              "      <td>10.3</td>\n",
              "      <td>12.03</td>\n",
              "    </tr>\n",
              "    <tr>\n",
              "      <th>3</th>\n",
              "      <td>8.8</td>\n",
              "      <td>63</td>\n",
              "      <td>10.2</td>\n",
              "      <td>12.03</td>\n",
              "    </tr>\n",
              "    <tr>\n",
              "      <th>4</th>\n",
              "      <td>10.5</td>\n",
              "      <td>72</td>\n",
              "      <td>16.4</td>\n",
              "      <td>14.97</td>\n",
              "    </tr>\n",
              "    <tr>\n",
              "      <th>5</th>\n",
              "      <td>10.7</td>\n",
              "      <td>81</td>\n",
              "      <td>18.8</td>\n",
              "      <td>21.87</td>\n",
              "    </tr>\n",
              "    <tr>\n",
              "      <th>7</th>\n",
              "      <td>11.0</td>\n",
              "      <td>66</td>\n",
              "      <td>15.6</td>\n",
              "      <td>15.73</td>\n",
              "    </tr>\n",
              "    <tr>\n",
              "      <th>8</th>\n",
              "      <td>11.0</td>\n",
              "      <td>75</td>\n",
              "      <td>18.2</td>\n",
              "      <td>19.07</td>\n",
              "    </tr>\n",
              "    <tr>\n",
              "      <th>9</th>\n",
              "      <td>11.1</td>\n",
              "      <td>80</td>\n",
              "      <td>22.6</td>\n",
              "      <td>21.87</td>\n",
              "    </tr>\n",
              "    <tr>\n",
              "      <th>10</th>\n",
              "      <td>11.2</td>\n",
              "      <td>75</td>\n",
              "      <td>19.9</td>\n",
              "      <td>19.07</td>\n",
              "    </tr>\n",
              "    <tr>\n",
              "      <th>11</th>\n",
              "      <td>11.3</td>\n",
              "      <td>79</td>\n",
              "      <td>24.2</td>\n",
              "      <td>21.87</td>\n",
              "    </tr>\n",
              "  </tbody>\n",
              "</table>\n",
              "</div>"
            ],
            "text/plain": [
              "       C   A     V  V_hat\n",
              "1    8.3  70  10.3  16.00\n",
              "2    8.6  65  10.3  12.03\n",
              "3    8.8  63  10.2  12.03\n",
              "4   10.5  72  16.4  14.97\n",
              "5   10.7  81  18.8  21.87\n",
              "7   11.0  66  15.6  15.73\n",
              "8   11.0  75  18.2  19.07\n",
              "9   11.1  80  22.6  21.87\n",
              "10  11.2  75  19.9  19.07\n",
              "11  11.3  79  24.2  21.87"
            ]
          },
          "metadata": {
            "tags": []
          },
          "execution_count": 109
        }
      ]
    },
    {
      "cell_type": "code",
      "metadata": {
        "id": "WLvW7Zg7dzRt",
        "outputId": "2897b3bb-5c50-44f2-c924-279605e15a45",
        "colab": {
          "base_uri": "https://localhost:8080/",
          "height": 204
        }
      },
      "source": [
        "# Calculemos errores al cuadrado\n",
        "my_trees_new[\"e2\"] = (my_trees_new.V - my_trees_new.V_hat)**2\n",
        "my_trees_new.head(5)"
      ],
      "execution_count": null,
      "outputs": [
        {
          "output_type": "execute_result",
          "data": {
            "text/html": [
              "<div>\n",
              "<style scoped>\n",
              "    .dataframe tbody tr th:only-of-type {\n",
              "        vertical-align: middle;\n",
              "    }\n",
              "\n",
              "    .dataframe tbody tr th {\n",
              "        vertical-align: top;\n",
              "    }\n",
              "\n",
              "    .dataframe thead th {\n",
              "        text-align: right;\n",
              "    }\n",
              "</style>\n",
              "<table border=\"1\" class=\"dataframe\">\n",
              "  <thead>\n",
              "    <tr style=\"text-align: right;\">\n",
              "      <th></th>\n",
              "      <th>C</th>\n",
              "      <th>A</th>\n",
              "      <th>V</th>\n",
              "      <th>V_hat</th>\n",
              "      <th>e2</th>\n",
              "    </tr>\n",
              "  </thead>\n",
              "  <tbody>\n",
              "    <tr>\n",
              "      <th>1</th>\n",
              "      <td>8.3</td>\n",
              "      <td>70</td>\n",
              "      <td>10.3</td>\n",
              "      <td>16.00</td>\n",
              "      <td>32.4900</td>\n",
              "    </tr>\n",
              "    <tr>\n",
              "      <th>2</th>\n",
              "      <td>8.6</td>\n",
              "      <td>65</td>\n",
              "      <td>10.3</td>\n",
              "      <td>12.03</td>\n",
              "      <td>2.9929</td>\n",
              "    </tr>\n",
              "    <tr>\n",
              "      <th>3</th>\n",
              "      <td>8.8</td>\n",
              "      <td>63</td>\n",
              "      <td>10.2</td>\n",
              "      <td>12.03</td>\n",
              "      <td>3.3489</td>\n",
              "    </tr>\n",
              "    <tr>\n",
              "      <th>4</th>\n",
              "      <td>10.5</td>\n",
              "      <td>72</td>\n",
              "      <td>16.4</td>\n",
              "      <td>14.97</td>\n",
              "      <td>2.0449</td>\n",
              "    </tr>\n",
              "    <tr>\n",
              "      <th>5</th>\n",
              "      <td>10.7</td>\n",
              "      <td>81</td>\n",
              "      <td>18.8</td>\n",
              "      <td>21.87</td>\n",
              "      <td>9.4249</td>\n",
              "    </tr>\n",
              "  </tbody>\n",
              "</table>\n",
              "</div>"
            ],
            "text/plain": [
              "      C   A     V  V_hat       e2\n",
              "1   8.3  70  10.3  16.00  32.4900\n",
              "2   8.6  65  10.3  12.03   2.9929\n",
              "3   8.8  63  10.2  12.03   3.3489\n",
              "4  10.5  72  16.4  14.97   2.0449\n",
              "5  10.7  81  18.8  21.87   9.4249"
            ]
          },
          "metadata": {
            "tags": []
          },
          "execution_count": 110
        }
      ]
    },
    {
      "cell_type": "code",
      "metadata": {
        "id": "9dC__k6Zd2Fr",
        "outputId": "439cef19-40dc-4c3e-e475-38156150863c",
        "colab": {
          "base_uri": "https://localhost:8080/",
          "height": 34
        }
      },
      "source": [
        "# Obetengamos el error cuadrático medio\n",
        "my_trees_new.e2.sum()/my_trees_new.shape[0]"
      ],
      "execution_count": null,
      "outputs": [
        {
          "output_type": "execute_result",
          "data": {
            "text/plain": [
              "16.203253333333326"
            ]
          },
          "metadata": {
            "tags": []
          },
          "execution_count": 111
        }
      ]
    },
    {
      "cell_type": "markdown",
      "metadata": {
        "id": "RsoftAPHKiWw"
      },
      "source": [
        "### Ejercicios"
      ]
    },
    {
      "cell_type": "markdown",
      "metadata": {
        "id": "YBJILX59Ko6n"
      },
      "source": [
        "* Sigue los mismo pasos y calcula la estimación del volúmen del árbol 6. Pero ahora considera distancias de Manhattan y un vecindario con $K=4$."
      ]
    },
    {
      "cell_type": "code",
      "metadata": {
        "id": "8RZTWmBqH5iA",
        "outputId": "a6bf2040-91ed-4fcd-8891-78e8ede51e91",
        "colab": {
          "base_uri": "https://localhost:8080/"
        }
      },
      "source": [
        "# Completa el código\n",
        "\n",
        "# Definición del modelo\n",
        "knn_reg_2 = KNeighborsRegressor(n_neighbors=4, p=1)\n",
        "\n",
        "# Entrenamiento\n",
        "knn_reg_2.fit(X.values, y)\n",
        "\n",
        "# Predicción (Datos del árbol 6)\n",
        "knn_reg_2.predict([[10.8,83]]).round(2)"
      ],
      "execution_count": null,
      "outputs": [
        {
          "output_type": "execute_result",
          "data": {
            "text/plain": [
              "array([[24.85]])"
            ]
          },
          "metadata": {},
          "execution_count": 13
        }
      ]
    },
    {
      "cell_type": "markdown",
      "metadata": {
        "id": "nTyR97vReIDu"
      },
      "source": [
        "* Manteniendo el uso de la distancia de manhattan, entrena distintos modelos de forma iterativa variando $K$ desde $2$ hasta $15$. Grafica la evolución del error cuadrático medio ($ECM$) de las predicciones del conjunto de datos de entrenamiento respecto a $K$."
      ]
    },
    {
      "cell_type": "code",
      "metadata": {
        "id": "DDQxzNl0eGHi",
        "outputId": "14d9b378-6f86-4482-fc6a-71297d0ab276",
        "colab": {
          "base_uri": "https://localhost:8080/",
          "height": 325
        }
      },
      "source": [
        "ecm = []\n",
        "for k in np.arange(2,16):\n",
        "  # Calcular estimaciones para todos los árboles\n",
        "  knn_reg_3 = KNeighborsRegressor(n_neighbors=k, p=1)\n",
        "\n",
        "  # Entrenamiento\n",
        "  knn_reg_3.fit(X.values, y.values)\n",
        "\n",
        "  #my_trees_new = pd.DataFrame(pd.concat([X,y],axis=1))\n",
        "  #my_trees_new[\"V_hat\"] = knn_reg_3.predict(X.values).round(2)\n",
        "  #my_trees_new[\"e2\"] = (my_trees_new.V - my_trees_new.V_hat)**2\n",
        "  #ecm.append(my_trees_new.e2.sum()/my_trees_new.shape[0])\n",
        "\n",
        "  predicciones = knn_reg_3.predict(X.values)\n",
        "  errores =(predicciones - y)**2 #errores cuadraticos\n",
        "  ecm.append(errores.values.sum()/X.shape[0])\n",
        "\n",
        "#grafico\n",
        "plt.scatter(x = np.arange(2,16),\n",
        "            y = ecm,\n",
        "           color = 'red',)\n",
        "plt.suptitle(\"Relacion ECM y K\", fontweight = 'bold')\n",
        "plt.xlabel(\"K\")\n",
        "plt.ylabel(\"Error Cuadrático Medio\")\n",
        "plt.show"
      ],
      "execution_count": null,
      "outputs": [
        {
          "output_type": "execute_result",
          "data": {
            "text/plain": [
              "<function matplotlib.pyplot.show>"
            ]
          },
          "metadata": {},
          "execution_count": 12
        },
        {
          "output_type": "display_data",
          "data": {
            "image/png": "[encoded data removed]",
            "text/plain": [
              "<Figure size 432x288 with 1 Axes>"
            ]
          },
          "metadata": {
            "needs_background": "light"
          }
        }
      ]
    },
    {
      "cell_type": "markdown",
      "metadata": {
        "id": "uYCNejiiU4mP"
      },
      "source": [
        "## Clasificación KNN"
      ]
    },
    {
      "cell_type": "markdown",
      "metadata": {
        "id": "TnBUJoFsU8Er"
      },
      "source": [
        "### Intuición"
      ]
    },
    {
      "cell_type": "markdown",
      "metadata": {
        "id": "oOhndiHpzXio"
      },
      "source": [
        "Ahora vamos a resolver un problema de clasificación aplicando KNN. Para ello, consideraremos un conjunto de datos sobre tiroides."
      ]
    },
    {
      "cell_type": "code",
      "metadata": {
        "id": "XDONFHJ4Bxpu",
        "outputId": "a8e6e607-3f2e-4da9-cda0-c6963be60276",
        "colab": {
          "resources": {
            "http://localhost:8080/nbextensions/google.colab/files.js": {
              "data": "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",
              "ok": true,
              "headers": [
                [
                  "content-type",
                  "application/javascript"
                ]
              ],
              "status": 200,
              "status_text": ""
            }
          },
          "base_uri": "https://localhost:8080/",
          "height": 72
        }
      },
      "source": [
        "uploaded = files.upload()"
      ],
      "execution_count": null,
      "outputs": [
        {
          "output_type": "display_data",
          "data": {
            "text/html": [
              "\n",
              "     <input type=\"file\" id=\"files-c62c9a20-5b8f-48fe-97d6-29937f9093d0\" name=\"files[]\" multiple disabled\n",
              "        style=\"border:none\" />\n",
              "     <output id=\"result-c62c9a20-5b8f-48fe-97d6-29937f9093d0\">\n",
              "      Upload widget is only available when the cell has been executed in the\n",
              "      current browser session. Please rerun this cell to enable.\n",
              "      </output>\n",
              "      <script src=\"/nbextensions/google.colab/files.js\"></script> "
            ],
            "text/plain": [
              "<IPython.core.display.HTML object>"
            ]
          },
          "metadata": {}
        },
        {
          "output_type": "stream",
          "name": "stdout",
          "text": [
            "Saving newthyroid.csv to newthyroid.csv\n"
          ]
        }
      ]
    },
    {
      "cell_type": "markdown",
      "metadata": {
        "id": "wfu45XLV4bq2"
      },
      "source": [
        "El conjunto de datos contiene información de varios sujetos cuyas tiroides pueden ser de tres tipos que esperan identificar a partir de 5 variables numéricas."
      ]
    },
    {
      "cell_type": "code",
      "metadata": {
        "id": "BZZiwcTg0YQG",
        "outputId": "d17327d5-bcee-4834-fb23-0e01922bf000",
        "colab": {
          "base_uri": "https://localhost:8080/",
          "height": 204
        }
      },
      "source": [
        "thyroids = pd.read_csv(io.StringIO(uploaded['newthyroid.csv'].decode('utf-8')))\n",
        "thyroids.head()"
      ],
      "execution_count": null,
      "outputs": [
        {
          "output_type": "execute_result",
          "data": {
            "text/html": [
              "<div>\n",
              "<style scoped>\n",
              "    .dataframe tbody tr th:only-of-type {\n",
              "        vertical-align: middle;\n",
              "    }\n",
              "\n",
              "    .dataframe tbody tr th {\n",
              "        vertical-align: top;\n",
              "    }\n",
              "\n",
              "    .dataframe thead th {\n",
              "        text-align: right;\n",
              "    }\n",
              "</style>\n",
              "<table border=\"1\" class=\"dataframe\">\n",
              "  <thead>\n",
              "    <tr style=\"text-align: right;\">\n",
              "      <th></th>\n",
              "      <th>T3resin</th>\n",
              "      <th>Thyroxin</th>\n",
              "      <th>Triiodothyronine</th>\n",
              "      <th>Thyroidstimulating</th>\n",
              "      <th>TSH_value</th>\n",
              "      <th>Class</th>\n",
              "    </tr>\n",
              "  </thead>\n",
              "  <tbody>\n",
              "    <tr>\n",
              "      <th>0</th>\n",
              "      <td>107</td>\n",
              "      <td>10.1</td>\n",
              "      <td>2.2</td>\n",
              "      <td>0.9</td>\n",
              "      <td>2.7</td>\n",
              "      <td>1</td>\n",
              "    </tr>\n",
              "    <tr>\n",
              "      <th>1</th>\n",
              "      <td>113</td>\n",
              "      <td>9.9</td>\n",
              "      <td>3.1</td>\n",
              "      <td>2.0</td>\n",
              "      <td>5.9</td>\n",
              "      <td>1</td>\n",
              "    </tr>\n",
              "    <tr>\n",
              "      <th>2</th>\n",
              "      <td>127</td>\n",
              "      <td>12.9</td>\n",
              "      <td>2.4</td>\n",
              "      <td>1.4</td>\n",
              "      <td>0.6</td>\n",
              "      <td>1</td>\n",
              "    </tr>\n",
              "    <tr>\n",
              "      <th>3</th>\n",
              "      <td>109</td>\n",
              "      <td>5.3</td>\n",
              "      <td>1.6</td>\n",
              "      <td>1.4</td>\n",
              "      <td>1.5</td>\n",
              "      <td>1</td>\n",
              "    </tr>\n",
              "    <tr>\n",
              "      <th>4</th>\n",
              "      <td>105</td>\n",
              "      <td>7.3</td>\n",
              "      <td>1.5</td>\n",
              "      <td>1.5</td>\n",
              "      <td>-0.1</td>\n",
              "      <td>1</td>\n",
              "    </tr>\n",
              "  </tbody>\n",
              "</table>\n",
              "</div>"
            ],
            "text/plain": [
              "   T3resin   Thyroxin  ...   TSH_value   Class\n",
              "0      107       10.1  ...         2.7       1\n",
              "1      113        9.9  ...         5.9       1\n",
              "2      127       12.9  ...         0.6       1\n",
              "3      109        5.3  ...         1.5       1\n",
              "4      105        7.3  ...        -0.1       1\n",
              "\n",
              "[5 rows x 6 columns]"
            ]
          },
          "metadata": {},
          "execution_count": 15
        }
      ]
    },
    {
      "cell_type": "code",
      "metadata": {
        "id": "6U0bgQL-FJIp",
        "outputId": "53c523b5-28f6-4638-c303-dba7ad6b1a6e",
        "colab": {
          "base_uri": "https://localhost:8080/",
          "height": 204
        }
      },
      "source": [
        "thyroids.columns = ['T3','TRX','TRI','TRS','TSH','Tipo']\n",
        "thyroids.head()"
      ],
      "execution_count": null,
      "outputs": [
        {
          "output_type": "execute_result",
          "data": {
            "text/html": [
              "<div>\n",
              "<style scoped>\n",
              "    .dataframe tbody tr th:only-of-type {\n",
              "        vertical-align: middle;\n",
              "    }\n",
              "\n",
              "    .dataframe tbody tr th {\n",
              "        vertical-align: top;\n",
              "    }\n",
              "\n",
              "    .dataframe thead th {\n",
              "        text-align: right;\n",
              "    }\n",
              "</style>\n",
              "<table border=\"1\" class=\"dataframe\">\n",
              "  <thead>\n",
              "    <tr style=\"text-align: right;\">\n",
              "      <th></th>\n",
              "      <th>T3</th>\n",
              "      <th>TRX</th>\n",
              "      <th>TRI</th>\n",
              "      <th>TRS</th>\n",
              "      <th>TSH</th>\n",
              "      <th>Tipo</th>\n",
              "    </tr>\n",
              "  </thead>\n",
              "  <tbody>\n",
              "    <tr>\n",
              "      <th>0</th>\n",
              "      <td>107</td>\n",
              "      <td>10.1</td>\n",
              "      <td>2.2</td>\n",
              "      <td>0.9</td>\n",
              "      <td>2.7</td>\n",
              "      <td>1</td>\n",
              "    </tr>\n",
              "    <tr>\n",
              "      <th>1</th>\n",
              "      <td>113</td>\n",
              "      <td>9.9</td>\n",
              "      <td>3.1</td>\n",
              "      <td>2.0</td>\n",
              "      <td>5.9</td>\n",
              "      <td>1</td>\n",
              "    </tr>\n",
              "    <tr>\n",
              "      <th>2</th>\n",
              "      <td>127</td>\n",
              "      <td>12.9</td>\n",
              "      <td>2.4</td>\n",
              "      <td>1.4</td>\n",
              "      <td>0.6</td>\n",
              "      <td>1</td>\n",
              "    </tr>\n",
              "    <tr>\n",
              "      <th>3</th>\n",
              "      <td>109</td>\n",
              "      <td>5.3</td>\n",
              "      <td>1.6</td>\n",
              "      <td>1.4</td>\n",
              "      <td>1.5</td>\n",
              "      <td>1</td>\n",
              "    </tr>\n",
              "    <tr>\n",
              "      <th>4</th>\n",
              "      <td>105</td>\n",
              "      <td>7.3</td>\n",
              "      <td>1.5</td>\n",
              "      <td>1.5</td>\n",
              "      <td>-0.1</td>\n",
              "      <td>1</td>\n",
              "    </tr>\n",
              "  </tbody>\n",
              "</table>\n",
              "</div>"
            ],
            "text/plain": [
              "    T3   TRX  TRI  TRS  TSH  Tipo\n",
              "0  107  10.1  2.2  0.9  2.7     1\n",
              "1  113   9.9  3.1  2.0  5.9     1\n",
              "2  127  12.9  2.4  1.4  0.6     1\n",
              "3  109   5.3  1.6  1.4  1.5     1\n",
              "4  105   7.3  1.5  1.5 -0.1     1"
            ]
          },
          "metadata": {},
          "execution_count": 16
        }
      ]
    },
    {
      "cell_type": "markdown",
      "metadata": {
        "id": "pPyDcskm9Vee"
      },
      "source": [
        "Para fines didácticos, consideraremos únicamente las dos primeras variables para identificar los tipos de tiroides."
      ]
    },
    {
      "cell_type": "code",
      "metadata": {
        "id": "rAHcKgefIm5N",
        "outputId": "a60f27fd-0c92-409e-88d5-6587809978c2",
        "colab": {
          "base_uri": "https://localhost:8080/",
          "height": 204
        }
      },
      "source": [
        "thyroids_selected = thyroids.loc[:,['T3','TRX','Tipo']]\n",
        "thyroids_selected.head()"
      ],
      "execution_count": null,
      "outputs": [
        {
          "output_type": "execute_result",
          "data": {
            "text/html": [
              "<div>\n",
              "<style scoped>\n",
              "    .dataframe tbody tr th:only-of-type {\n",
              "        vertical-align: middle;\n",
              "    }\n",
              "\n",
              "    .dataframe tbody tr th {\n",
              "        vertical-align: top;\n",
              "    }\n",
              "\n",
              "    .dataframe thead th {\n",
              "        text-align: right;\n",
              "    }\n",
              "</style>\n",
              "<table border=\"1\" class=\"dataframe\">\n",
              "  <thead>\n",
              "    <tr style=\"text-align: right;\">\n",
              "      <th></th>\n",
              "      <th>T3</th>\n",
              "      <th>TRX</th>\n",
              "      <th>Tipo</th>\n",
              "    </tr>\n",
              "  </thead>\n",
              "  <tbody>\n",
              "    <tr>\n",
              "      <th>0</th>\n",
              "      <td>107</td>\n",
              "      <td>10.1</td>\n",
              "      <td>1</td>\n",
              "    </tr>\n",
              "    <tr>\n",
              "      <th>1</th>\n",
              "      <td>113</td>\n",
              "      <td>9.9</td>\n",
              "      <td>1</td>\n",
              "    </tr>\n",
              "    <tr>\n",
              "      <th>2</th>\n",
              "      <td>127</td>\n",
              "      <td>12.9</td>\n",
              "      <td>1</td>\n",
              "    </tr>\n",
              "    <tr>\n",
              "      <th>3</th>\n",
              "      <td>109</td>\n",
              "      <td>5.3</td>\n",
              "      <td>1</td>\n",
              "    </tr>\n",
              "    <tr>\n",
              "      <th>4</th>\n",
              "      <td>105</td>\n",
              "      <td>7.3</td>\n",
              "      <td>1</td>\n",
              "    </tr>\n",
              "  </tbody>\n",
              "</table>\n",
              "</div>"
            ],
            "text/plain": [
              "    T3   TRX  Tipo\n",
              "0  107  10.1     1\n",
              "1  113   9.9     1\n",
              "2  127  12.9     1\n",
              "3  109   5.3     1\n",
              "4  105   7.3     1"
            ]
          },
          "metadata": {},
          "execution_count": 17
        }
      ]
    },
    {
      "cell_type": "markdown",
      "metadata": {
        "id": "mT-8EkdE-qBI"
      },
      "source": [
        "Grafiquemos la información selecionada de los sujetos de entrenamiento."
      ]
    },
    {
      "cell_type": "code",
      "metadata": {
        "id": "BbUuARV6Foly",
        "outputId": "be8822e7-7f60-46df-c268-7c4d6e1e71ef",
        "colab": {
          "base_uri": "https://localhost:8080/",
          "height": 308
        }
      },
      "source": [
        "# Sujetos de entrenamiento\n",
        "plt.scatter(x = thyroids_selected.T3,\n",
        "            y = thyroids_selected.TRX,\n",
        "            c = thyroids_selected.Tipo,\n",
        "            cmap='viridis')\n",
        "\n",
        "plt.axis('equal')\n",
        "plt.suptitle(\"Tiroides: T3, TRX y Tipo\", fontweight = 'bold')\n",
        "plt.xlabel(\"T3\")\n",
        "plt.ylabel(\"TRX\")\n",
        "plt.show()"
      ],
      "execution_count": null,
      "outputs": [
        {
          "output_type": "display_data",
          "data": {
            "image/png": "[encoded data removed]",
            "text/plain": [
              "<Figure size 432x288 with 1 Axes>"
            ]
          },
          "metadata": {
            "tags": []
          }
        }
      ]
    },
    {
      "cell_type": "markdown",
      "metadata": {
        "id": "fK5dTOslEPUR"
      },
      "source": [
        "Ahora consideremos un nuevo sujeto del cual desconocemos su tipo de tiroide."
      ]
    },
    {
      "cell_type": "code",
      "metadata": {
        "id": "_j8r4MThKp4l",
        "outputId": "46c32d6e-b6e1-481e-89fe-a0b39e4e5dbd",
        "colab": {
          "base_uri": "https://localhost:8080/"
        }
      },
      "source": [
        "# Nuevo sujeto\n",
        "new_subject = [136,12,np.nan]\n",
        "new_subject"
      ],
      "execution_count": null,
      "outputs": [
        {
          "output_type": "execute_result",
          "data": {
            "text/plain": [
              "[136, 12, nan]"
            ]
          },
          "metadata": {},
          "execution_count": 18
        }
      ]
    },
    {
      "cell_type": "markdown",
      "metadata": {
        "id": "AUCsCjUeEZMw"
      },
      "source": [
        "  Grafiquemos al nuevo sujeto entre el resto de observaciones."
      ]
    },
    {
      "cell_type": "code",
      "metadata": {
        "id": "o7iqoI2jGN4W",
        "outputId": "2cfc9590-d1e2-45b9-a6dc-93f2e3e733ad",
        "colab": {
          "base_uri": "https://localhost:8080/",
          "height": 308
        }
      },
      "source": [
        "# Sujetos de entrenamiento\n",
        "plt.scatter(x = thyroids_selected.T3,\n",
        "            y = thyroids_selected.TRX,\n",
        "            c = thyroids_selected.Tipo,\n",
        "            cmap='viridis')\n",
        "\n",
        "# Nuevo sujeto\n",
        "plt.scatter(x = new_subject[0],\n",
        "            y = new_subject[1],\n",
        "            color = 'red')\n",
        "\n",
        "plt.axis('equal')\n",
        "plt.suptitle(\"Tiroides: T3, TRX y Tipo\", fontweight = 'bold')\n",
        "plt.xlabel(\"T3\")\n",
        "plt.ylabel(\"TRX\")\n",
        "plt.show()"
      ],
      "execution_count": null,
      "outputs": [
        {
          "output_type": "display_data",
          "data": {
            "image/png": "[encoded data removed]",
            "text/plain": [
              "<Figure size 432x288 with 1 Axes>"
            ]
          },
          "metadata": {
            "tags": []
          }
        }
      ]
    },
    {
      "cell_type": "markdown",
      "metadata": {
        "id": "o04ub5O6McZG"
      },
      "source": [
        "Ahora, tal como antes, calculemos distancias euclidaneas entre el nuevo sujeto y las observaciones de entrenamiento."
      ]
    },
    {
      "cell_type": "code",
      "metadata": {
        "id": "xTj2Jx4VLCCZ",
        "outputId": "0cdd7154-88b0-48ff-f16e-691f7b19a29f",
        "colab": {
          "base_uri": "https://localhost:8080/",
          "height": 204
        }
      },
      "source": [
        "# Calcular distancias euclidianas\n",
        "thyroids_selected['dist_a_new_subject'] = np.sqrt(\n",
        "    (thyroids_selected.T3  - new_subject[0])**2 +\n",
        "    (thyroids_selected.TRX - new_subject[1])**2)\n",
        "\n",
        "thyroids_selected.head()"
      ],
      "execution_count": null,
      "outputs": [
        {
          "output_type": "execute_result",
          "data": {
            "text/html": [
              "<div>\n",
              "<style scoped>\n",
              "    .dataframe tbody tr th:only-of-type {\n",
              "        vertical-align: middle;\n",
              "    }\n",
              "\n",
              "    .dataframe tbody tr th {\n",
              "        vertical-align: top;\n",
              "    }\n",
              "\n",
              "    .dataframe thead th {\n",
              "        text-align: right;\n",
              "    }\n",
              "</style>\n",
              "<table border=\"1\" class=\"dataframe\">\n",
              "  <thead>\n",
              "    <tr style=\"text-align: right;\">\n",
              "      <th></th>\n",
              "      <th>T3</th>\n",
              "      <th>TRX</th>\n",
              "      <th>Tipo</th>\n",
              "      <th>dist_a_new_subject</th>\n",
              "    </tr>\n",
              "  </thead>\n",
              "  <tbody>\n",
              "    <tr>\n",
              "      <th>0</th>\n",
              "      <td>107</td>\n",
              "      <td>10.1</td>\n",
              "      <td>1</td>\n",
              "      <td>29.062175</td>\n",
              "    </tr>\n",
              "    <tr>\n",
              "      <th>1</th>\n",
              "      <td>113</td>\n",
              "      <td>9.9</td>\n",
              "      <td>1</td>\n",
              "      <td>23.095671</td>\n",
              "    </tr>\n",
              "    <tr>\n",
              "      <th>2</th>\n",
              "      <td>127</td>\n",
              "      <td>12.9</td>\n",
              "      <td>1</td>\n",
              "      <td>9.044888</td>\n",
              "    </tr>\n",
              "    <tr>\n",
              "      <th>3</th>\n",
              "      <td>109</td>\n",
              "      <td>5.3</td>\n",
              "      <td>1</td>\n",
              "      <td>27.818878</td>\n",
              "    </tr>\n",
              "    <tr>\n",
              "      <th>4</th>\n",
              "      <td>105</td>\n",
              "      <td>7.3</td>\n",
              "      <td>1</td>\n",
              "      <td>31.354266</td>\n",
              "    </tr>\n",
              "  </tbody>\n",
              "</table>\n",
              "</div>"
            ],
            "text/plain": [
              "    T3   TRX  Tipo  dist_a_new_subject\n",
              "0  107  10.1     1           29.062175\n",
              "1  113   9.9     1           23.095671\n",
              "2  127  12.9     1            9.044888\n",
              "3  109   5.3     1           27.818878\n",
              "4  105   7.3     1           31.354266"
            ]
          },
          "metadata": {},
          "execution_count": 19
        }
      ]
    },
    {
      "cell_type": "markdown",
      "metadata": {
        "id": "9M80IwLsN_eA"
      },
      "source": [
        "Tomando un vecindario de $K=10$ tenemos los siguientes vecinos:"
      ]
    },
    {
      "cell_type": "code",
      "metadata": {
        "id": "Q-GJ6vC0Lx0a",
        "outputId": "ebe8d90f-1455-41c8-af96-f09f8cc91bdb",
        "colab": {
          "base_uri": "https://localhost:8080/",
          "height": 359
        }
      },
      "source": [
        "# Vecindario con K=10\n",
        "thyroids_selected.sort_values(by=\"dist_a_new_subject\")[:10]"
      ],
      "execution_count": null,
      "outputs": [
        {
          "output_type": "execute_result",
          "data": {
            "text/html": [
              "<div>\n",
              "<style scoped>\n",
              "    .dataframe tbody tr th:only-of-type {\n",
              "        vertical-align: middle;\n",
              "    }\n",
              "\n",
              "    .dataframe tbody tr th {\n",
              "        vertical-align: top;\n",
              "    }\n",
              "\n",
              "    .dataframe thead th {\n",
              "        text-align: right;\n",
              "    }\n",
              "</style>\n",
              "<table border=\"1\" class=\"dataframe\">\n",
              "  <thead>\n",
              "    <tr style=\"text-align: right;\">\n",
              "      <th></th>\n",
              "      <th>T3</th>\n",
              "      <th>TRX</th>\n",
              "      <th>Tipo</th>\n",
              "      <th>dist_a_new_subject</th>\n",
              "    </tr>\n",
              "  </thead>\n",
              "  <tbody>\n",
              "    <tr>\n",
              "      <th>72</th>\n",
              "      <td>133</td>\n",
              "      <td>9.7</td>\n",
              "      <td>1</td>\n",
              "      <td>3.780212</td>\n",
              "    </tr>\n",
              "    <tr>\n",
              "      <th>156</th>\n",
              "      <td>134</td>\n",
              "      <td>16.4</td>\n",
              "      <td>2</td>\n",
              "      <td>4.833218</td>\n",
              "    </tr>\n",
              "    <tr>\n",
              "      <th>150</th>\n",
              "      <td>139</td>\n",
              "      <td>16.4</td>\n",
              "      <td>2</td>\n",
              "      <td>5.325411</td>\n",
              "    </tr>\n",
              "    <tr>\n",
              "      <th>128</th>\n",
              "      <td>130</td>\n",
              "      <td>10.0</td>\n",
              "      <td>1</td>\n",
              "      <td>6.324555</td>\n",
              "    </tr>\n",
              "    <tr>\n",
              "      <th>38</th>\n",
              "      <td>130</td>\n",
              "      <td>9.5</td>\n",
              "      <td>1</td>\n",
              "      <td>6.500000</td>\n",
              "    </tr>\n",
              "    <tr>\n",
              "      <th>42</th>\n",
              "      <td>129</td>\n",
              "      <td>11.9</td>\n",
              "      <td>1</td>\n",
              "      <td>7.000714</td>\n",
              "    </tr>\n",
              "    <tr>\n",
              "      <th>190</th>\n",
              "      <td>141</td>\n",
              "      <td>5.6</td>\n",
              "      <td>3</td>\n",
              "      <td>8.121576</td>\n",
              "    </tr>\n",
              "    <tr>\n",
              "      <th>211</th>\n",
              "      <td>139</td>\n",
              "      <td>4.2</td>\n",
              "      <td>3</td>\n",
              "      <td>8.357033</td>\n",
              "    </tr>\n",
              "    <tr>\n",
              "      <th>2</th>\n",
              "      <td>127</td>\n",
              "      <td>12.9</td>\n",
              "      <td>1</td>\n",
              "      <td>9.044888</td>\n",
              "    </tr>\n",
              "    <tr>\n",
              "      <th>137</th>\n",
              "      <td>127</td>\n",
              "      <td>7.7</td>\n",
              "      <td>1</td>\n",
              "      <td>9.974467</td>\n",
              "    </tr>\n",
              "  </tbody>\n",
              "</table>\n",
              "</div>"
            ],
            "text/plain": [
              "      T3   TRX  Tipo  dist_a_new_subject\n",
              "72   133   9.7     1            3.780212\n",
              "156  134  16.4     2            4.833218\n",
              "150  139  16.4     2            5.325411\n",
              "128  130  10.0     1            6.324555\n",
              "38   130   9.5     1            6.500000\n",
              "42   129  11.9     1            7.000714\n",
              "190  141   5.6     3            8.121576\n",
              "211  139   4.2     3            8.357033\n",
              "2    127  12.9     1            9.044888\n",
              "137  127   7.7     1            9.974467"
            ]
          },
          "metadata": {},
          "execution_count": 20
        }
      ]
    },
    {
      "cell_type": "markdown",
      "metadata": {
        "id": "wTT5GJ_BPeFP"
      },
      "source": [
        "Graficando,"
      ]
    },
    {
      "cell_type": "code",
      "metadata": {
        "id": "MNcqIPGZMCv-",
        "outputId": "a0ab2998-3e4a-4220-dabc-01328e129a0d",
        "colab": {
          "base_uri": "https://localhost:8080/",
          "height": 308
        }
      },
      "source": [
        "# Datos de entrenamiento\n",
        "plt.scatter(x = thyroids_selected.T3,\n",
        "            y = thyroids_selected.TRX,\n",
        "            c = thyroids_selected.Tipo,\n",
        "            cmap='viridis')\n",
        "\n",
        "# Nuevo sujeto\n",
        "plt.scatter(x = new_subject[0],\n",
        "            y = new_subject[1],\n",
        "            color = 'red')\n",
        "\n",
        "# Vecindario\n",
        "plt.scatter(x = thyroids_selected.sort_values(by=\"dist_a_new_subject\")[:10].T3,\n",
        "            y = thyroids_selected.sort_values(by=\"dist_a_new_subject\")[:10].TRX,\n",
        "            c = thyroids_selected.sort_values(by=\"dist_a_new_subject\")[:10].Tipo,\n",
        "            cmap='viridis',\n",
        "            marker=\"x\",s=20*2**4)\n",
        "\n",
        "plt.axis('equal')\n",
        "plt.suptitle(\"Tiroides: T3, TRX y Tipo\", fontweight = 'bold')\n",
        "plt.xlabel(\"T3\")\n",
        "plt.ylabel(\"TRX\")\n",
        "plt.show()"
      ],
      "execution_count": null,
      "outputs": [
        {
          "output_type": "display_data",
          "data": {
            "image/png": "[encoded data removed]",
            "text/plain": [
              "<Figure size 432x288 with 1 Axes>"
            ]
          },
          "metadata": {
            "tags": []
          }
        }
      ]
    },
    {
      "cell_type": "markdown",
      "metadata": {
        "id": "hTMamm5uSK2x"
      },
      "source": [
        "Hora de calcular probabilidades. Primero identifiquemos a los vecinos que tienen tiroides de algún de tipo dado."
      ]
    },
    {
      "cell_type": "code",
      "metadata": {
        "id": "Cv-NObv4QJjn",
        "outputId": "426431ea-e168-450b-b5ea-387a477c40a8",
        "colab": {
          "base_uri": "https://localhost:8080/",
          "height": 204
        }
      },
      "source": [
        "thyroids_selected.sort_values(by=\"dist_a_new_subject\")[:10].Tipo == 1"
      ],
      "execution_count": null,
      "outputs": [
        {
          "output_type": "execute_result",
          "data": {
            "text/plain": [
              "72      True\n",
              "156    False\n",
              "150    False\n",
              "128     True\n",
              "38      True\n",
              "42      True\n",
              "190    False\n",
              "211    False\n",
              "2       True\n",
              "137     True\n",
              "Name: Tipo, dtype: bool"
            ]
          },
          "metadata": {
            "tags": []
          },
          "execution_count": 148
        }
      ]
    },
    {
      "cell_type": "markdown",
      "metadata": {
        "id": "VFh2DY4XbQqX"
      },
      "source": [
        "Genial, con este tipo de vector será sencillo obtener las probabilidades tal como se puede ver a continuación."
      ]
    },
    {
      "cell_type": "code",
      "metadata": {
        "id": "nDtwIOrbNkix"
      },
      "source": [
        "# Probabilidades\n",
        "p_new_subject_is_1 = (1/10)*np.sum(\n",
        "    thyroids_selected.sort_values(by=\"dist_a_new_subject\")[:10].Tipo == 1)\n",
        "p_new_subject_is_2 = (1/10)*np.sum(\n",
        "    thyroids_selected.sort_values(by=\"dist_a_new_subject\")[:10].Tipo == 2)\n",
        "p_new_subject_is_3 = (1/10)*np.sum(\n",
        "    thyroids_selected.sort_values(by=\"dist_a_new_subject\")[:10].Tipo == 3)\n",
        "\n",
        "p_new_subject_is ={'1':p_new_subject_is_1,\n",
        "                   '2':p_new_subject_is_2,\n",
        "                   '3':p_new_subject_is_3}"
      ],
      "execution_count": null,
      "outputs": []
    },
    {
      "cell_type": "code",
      "metadata": {
        "id": "6WKlaeAI7E1_",
        "outputId": "0dfe4b27-fbfe-4c12-f2fa-403dc8b34f87",
        "colab": {
          "base_uri": "https://localhost:8080/",
          "height": 34
        }
      },
      "source": [
        "# P(tipo=1|...)\n",
        "p_new_subject_is_1"
      ],
      "execution_count": null,
      "outputs": [
        {
          "output_type": "execute_result",
          "data": {
            "text/plain": [
              "0.6000000000000001"
            ]
          },
          "metadata": {
            "tags": []
          },
          "execution_count": 150
        }
      ]
    },
    {
      "cell_type": "code",
      "metadata": {
        "id": "uRH7kQhW7WWN",
        "outputId": "f81069e8-1308-4756-a95c-c75003e895e1",
        "colab": {
          "base_uri": "https://localhost:8080/",
          "height": 34
        }
      },
      "source": [
        "# P(tipo=2|...)\n",
        "p_new_subject_is_2"
      ],
      "execution_count": null,
      "outputs": [
        {
          "output_type": "execute_result",
          "data": {
            "text/plain": [
              "0.2"
            ]
          },
          "metadata": {
            "tags": []
          },
          "execution_count": 151
        }
      ]
    },
    {
      "cell_type": "code",
      "metadata": {
        "id": "kGFbzcHh7WvN",
        "outputId": "43978371-1e8a-4700-c6ab-5171877f27a8",
        "colab": {
          "base_uri": "https://localhost:8080/",
          "height": 34
        }
      },
      "source": [
        "# P(tipo=3|...)\n",
        "p_new_subject_is_3"
      ],
      "execution_count": null,
      "outputs": [
        {
          "output_type": "execute_result",
          "data": {
            "text/plain": [
              "0.2"
            ]
          },
          "metadata": {
            "tags": []
          },
          "execution_count": 152
        }
      ]
    },
    {
      "cell_type": "code",
      "metadata": {
        "id": "6IuUzCwtb0nf",
        "outputId": "6ccac315-242f-4205-8fcc-b2af141172e0",
        "colab": {
          "base_uri": "https://localhost:8080/",
          "height": 35
        }
      },
      "source": [
        "# Prediccón (argmax)\n",
        "max(p_new_subject_is, key=p_new_subject_is.get)"
      ],
      "execution_count": null,
      "outputs": [
        {
          "output_type": "execute_result",
          "data": {
            "application/vnd.google.colaboratory.intrinsic+json": {
              "type": "string"
            },
            "text/plain": [
              "'1'"
            ]
          },
          "metadata": {},
          "execution_count": 22
        }
      ]
    },
    {
      "cell_type": "markdown",
      "metadata": {
        "id": "umh_Rhogb0-3"
      },
      "source": [
        "### Formalización del algoritmo"
      ]
    },
    {
      "cell_type": "markdown",
      "metadata": {
        "id": "UJtLx-NEdKXY"
      },
      "source": [
        "Genial, con esta intuición, de igual forma, podemos formalizar el algoritmo de clasificación KNN.\n",
        "\n",
        "Sea $\\mathbf{x}$ un punto del cual deseamos obtener una estimación de su respuesta $\\hat{y}$ enre un total de $T$ clases posibles. Dado un valor $K$ de vecinos, obtenemos la estimación como sigue.\n",
        "\n",
        "1. Calcular algún tipo de distancia entre $\\mathbf{x}$ y el resto de puntos de entrenamiento $\\{\\mathbf{x}_1,...,\\mathbf{x}_n\\}$\n",
        "2. Seleccionar los $K$ puntos más cercanos a $\\mathbf{x}$.\n",
        "3. Tomando este conjunto, calcular cada una de las probabilidades de que la respuesta sea alguna de las $T$ clases posibles usando la expresión $P(y=c_j|x,\\mathcal{D},K) =\n",
        "\\frac{1}{K} \\sum_{\\mathbf{x}_i \\in N_K(\\mathbf{x})} I(y_i=c_j), \\quad j=1,...,T$.\n",
        "3. Calcular la estimación $\\hat{y}$ buscando la clase que tenga la mayor probabilidad de ser la respuesta que desconocemos. Esto es $\\hat{y} = \\underset{c \\in \\{c_1,c_2,...,c_T\\}}{\\operatorname{argmax}} P(y=c_j|x,k)$\n",
        "\n",
        "__Nota:__ En caso de empate de probabilidades, le elección de la estimación deberá ser de forma aleatoria entre las clases empatadas."
      ]
    },
    {
      "cell_type": "markdown",
      "metadata": {
        "id": "kRF1CYvPhaOy"
      },
      "source": [
        "### Uso de librerías"
      ]
    },
    {
      "cell_type": "markdown",
      "metadata": {
        "id": "FoMB1LirhiAb"
      },
      "source": [
        "Hora de suar una libreria que nos facilite los cálculos."
      ]
    },
    {
      "cell_type": "code",
      "metadata": {
        "id": "qguShPwShxfp"
      },
      "source": [
        "# Primero debemos definir el conjunto de entrenamiento...\n",
        "X = thyroids_selected.loc[:,['T3','TRX']]\n",
        "y = thyroids_selected.loc[:,['Tipo']]"
      ],
      "execution_count": null,
      "outputs": []
    },
    {
      "cell_type": "code",
      "metadata": {
        "id": "2UDh6H6Rx7G6",
        "outputId": "102f4745-8eb2-4449-ed50-fc49146656d8",
        "colab": {
          "base_uri": "https://localhost:8080/",
          "height": 204
        }
      },
      "source": [
        "X.head()"
      ],
      "execution_count": null,
      "outputs": [
        {
          "output_type": "execute_result",
          "data": {
            "text/html": [
              "<div>\n",
              "<style scoped>\n",
              "    .dataframe tbody tr th:only-of-type {\n",
              "        vertical-align: middle;\n",
              "    }\n",
              "\n",
              "    .dataframe tbody tr th {\n",
              "        vertical-align: top;\n",
              "    }\n",
              "\n",
              "    .dataframe thead th {\n",
              "        text-align: right;\n",
              "    }\n",
              "</style>\n",
              "<table border=\"1\" class=\"dataframe\">\n",
              "  <thead>\n",
              "    <tr style=\"text-align: right;\">\n",
              "      <th></th>\n",
              "      <th>T3</th>\n",
              "      <th>TRX</th>\n",
              "    </tr>\n",
              "  </thead>\n",
              "  <tbody>\n",
              "    <tr>\n",
              "      <th>0</th>\n",
              "      <td>107</td>\n",
              "      <td>10.1</td>\n",
              "    </tr>\n",
              "    <tr>\n",
              "      <th>1</th>\n",
              "      <td>113</td>\n",
              "      <td>9.9</td>\n",
              "    </tr>\n",
              "    <tr>\n",
              "      <th>2</th>\n",
              "      <td>127</td>\n",
              "      <td>12.9</td>\n",
              "    </tr>\n",
              "    <tr>\n",
              "      <th>3</th>\n",
              "      <td>109</td>\n",
              "      <td>5.3</td>\n",
              "    </tr>\n",
              "    <tr>\n",
              "      <th>4</th>\n",
              "      <td>105</td>\n",
              "      <td>7.3</td>\n",
              "    </tr>\n",
              "  </tbody>\n",
              "</table>\n",
              "</div>"
            ],
            "text/plain": [
              "    T3   TRX\n",
              "0  107  10.1\n",
              "1  113   9.9\n",
              "2  127  12.9\n",
              "3  109   5.3\n",
              "4  105   7.3"
            ]
          },
          "metadata": {},
          "execution_count": 24
        }
      ]
    },
    {
      "cell_type": "code",
      "metadata": {
        "id": "Xkc8jfkCx8YM",
        "outputId": "edd6febf-9151-4899-eb24-1194ba216b61",
        "colab": {
          "base_uri": "https://localhost:8080/",
          "height": 204
        }
      },
      "source": [
        "y.head()"
      ],
      "execution_count": null,
      "outputs": [
        {
          "output_type": "execute_result",
          "data": {
            "text/html": [
              "<div>\n",
              "<style scoped>\n",
              "    .dataframe tbody tr th:only-of-type {\n",
              "        vertical-align: middle;\n",
              "    }\n",
              "\n",
              "    .dataframe tbody tr th {\n",
              "        vertical-align: top;\n",
              "    }\n",
              "\n",
              "    .dataframe thead th {\n",
              "        text-align: right;\n",
              "    }\n",
              "</style>\n",
              "<table border=\"1\" class=\"dataframe\">\n",
              "  <thead>\n",
              "    <tr style=\"text-align: right;\">\n",
              "      <th></th>\n",
              "      <th>Tipo</th>\n",
              "    </tr>\n",
              "  </thead>\n",
              "  <tbody>\n",
              "    <tr>\n",
              "      <th>0</th>\n",
              "      <td>1</td>\n",
              "    </tr>\n",
              "    <tr>\n",
              "      <th>1</th>\n",
              "      <td>1</td>\n",
              "    </tr>\n",
              "    <tr>\n",
              "      <th>2</th>\n",
              "      <td>1</td>\n",
              "    </tr>\n",
              "    <tr>\n",
              "      <th>3</th>\n",
              "      <td>1</td>\n",
              "    </tr>\n",
              "    <tr>\n",
              "      <th>4</th>\n",
              "      <td>1</td>\n",
              "    </tr>\n",
              "  </tbody>\n",
              "</table>\n",
              "</div>"
            ],
            "text/plain": [
              "   Tipo\n",
              "0     1\n",
              "1     1\n",
              "2     1\n",
              "3     1\n",
              "4     1"
            ]
          },
          "metadata": {
            "tags": []
          },
          "execution_count": 156
        }
      ]
    },
    {
      "cell_type": "code",
      "metadata": {
        "id": "l4pKGoSryWLU",
        "outputId": "30116801-5ea3-4bc0-f8d6-b755d2d84dd4",
        "colab": {
          "base_uri": "https://localhost:8080/"
        }
      },
      "source": [
        "# Importar librería\n",
        "from sklearn.neighbors import KNeighborsClassifier\n",
        "\n",
        "# Definir modelo\n",
        "knn_class = KNeighborsClassifier(n_neighbors=10)\n",
        "\n",
        "# Entrenamiento\n",
        "knn_class.fit(X.values, np.ravel(y))"
      ],
      "execution_count": null,
      "outputs": [
        {
          "output_type": "execute_result",
          "data": {
            "text/plain": [
              "KNeighborsClassifier(n_neighbors=10)"
            ]
          },
          "metadata": {},
          "execution_count": 30
        }
      ]
    },
    {
      "cell_type": "code",
      "metadata": {
        "id": "bbAzjvZ-4UwM",
        "outputId": "550322ec-e719-4a9c-a983-9daf3095351a",
        "colab": {
          "base_uri": "https://localhost:8080/"
        }
      },
      "source": [
        "# Probabilidades (Datos del nuevo sujeto)\n",
        "knn_class.predict_proba([[new_subject[0], new_subject[1]]])"
      ],
      "execution_count": null,
      "outputs": [
        {
          "output_type": "execute_result",
          "data": {
            "text/plain": [
              "array([[0.6, 0.2, 0.2]])"
            ]
          },
          "metadata": {},
          "execution_count": 31
        }
      ]
    },
    {
      "cell_type": "code",
      "metadata": {
        "id": "nOVfMfv1z7TT",
        "outputId": "dc759f3e-25d4-4fe4-e08c-f66cdf38055d",
        "colab": {
          "base_uri": "https://localhost:8080/"
        }
      },
      "source": [
        "# Predicción (Datos del nuevo sujeto)\n",
        "knn_class.predict([[new_subject[0], new_subject[1]]])"
      ],
      "execution_count": null,
      "outputs": [
        {
          "output_type": "execute_result",
          "data": {
            "text/plain": [
              "array([1])"
            ]
          },
          "metadata": {},
          "execution_count": 32
        }
      ]
    },
    {
      "cell_type": "code",
      "metadata": {
        "id": "o5aUnOpehcVK",
        "outputId": "031b7a0b-6171-4eda-a79f-3e64a2ea23c3",
        "colab": {
          "base_uri": "https://localhost:8080/",
          "height": 187
        }
      },
      "source": [
        "# Predicciones para todos los sujetos\n",
        "knn_class.predict(X.values)"
      ],
      "execution_count": null,
      "outputs": [
        {
          "output_type": "execute_result",
          "data": {
            "text/plain": [
              "array([1, 1, 1, 1, 1, 1, 1, 1, 1, 1, 1, 1, 1, 1, 1, 1, 1, 1, 1, 1, 1, 1,\n",
              "       1, 1, 1, 1, 1, 1, 1, 1, 1, 1, 1, 1, 1, 1, 1, 1, 1, 1, 1, 1, 1, 1,\n",
              "       1, 1, 1, 1, 1, 1, 1, 1, 1, 1, 1, 1, 1, 1, 1, 1, 1, 1, 1, 1, 1, 1,\n",
              "       1, 1, 1, 1, 1, 1, 1, 1, 1, 1, 1, 1, 1, 1, 1, 1, 1, 1, 1, 1, 1, 1,\n",
              "       1, 1, 1, 1, 1, 1, 1, 1, 1, 1, 1, 1, 1, 1, 1, 1, 1, 1, 1, 1, 1, 1,\n",
              "       1, 1, 1, 1, 1, 1, 1, 1, 1, 1, 1, 1, 1, 1, 1, 1, 1, 1, 1, 1, 1, 1,\n",
              "       1, 1, 1, 1, 1, 1, 1, 1, 1, 1, 1, 1, 1, 1, 1, 1, 1, 1, 1, 1, 1, 2,\n",
              "       2, 2, 1, 1, 2, 1, 2, 2, 2, 2, 2, 1, 2, 2, 1, 2, 2, 2, 2, 2, 2, 2,\n",
              "       2, 1, 1, 1, 2, 2, 1, 2, 1, 3, 1, 1, 3, 3, 3, 3, 3, 3, 3, 3, 1, 3,\n",
              "       3, 3, 3, 3, 1, 3, 3, 3, 3, 1, 3, 3, 1, 3, 1, 1, 1])"
            ]
          },
          "metadata": {
            "tags": []
          },
          "execution_count": 160
        }
      ]
    },
    {
      "cell_type": "code",
      "metadata": {
        "id": "r7Xp9KF_hoJu",
        "outputId": "128366e3-12ed-4f6a-899c-4a00150acb06",
        "colab": {
          "base_uri": "https://localhost:8080/",
          "height": 173
        }
      },
      "source": [
        "# Matriz de confusión\n",
        "mc = pd.crosstab(knn_class.predict(X),np.ravel(y))\n",
        "mc"
      ],
      "execution_count": null,
      "outputs": [
        {
          "output_type": "execute_result",
          "data": {
            "text/html": [
              "<div>\n",
              "<style scoped>\n",
              "    .dataframe tbody tr th:only-of-type {\n",
              "        vertical-align: middle;\n",
              "    }\n",
              "\n",
              "    .dataframe tbody tr th {\n",
              "        vertical-align: top;\n",
              "    }\n",
              "\n",
              "    .dataframe thead th {\n",
              "        text-align: right;\n",
              "    }\n",
              "</style>\n",
              "<table border=\"1\" class=\"dataframe\">\n",
              "  <thead>\n",
              "    <tr style=\"text-align: right;\">\n",
              "      <th>col_0</th>\n",
              "      <th>1</th>\n",
              "      <th>2</th>\n",
              "      <th>3</th>\n",
              "    </tr>\n",
              "    <tr>\n",
              "      <th>row_0</th>\n",
              "      <th></th>\n",
              "      <th></th>\n",
              "      <th></th>\n",
              "    </tr>\n",
              "  </thead>\n",
              "  <tbody>\n",
              "    <tr>\n",
              "      <th>1</th>\n",
              "      <td>150</td>\n",
              "      <td>13</td>\n",
              "      <td>9</td>\n",
              "    </tr>\n",
              "    <tr>\n",
              "      <th>2</th>\n",
              "      <td>0</td>\n",
              "      <td>22</td>\n",
              "      <td>0</td>\n",
              "    </tr>\n",
              "    <tr>\n",
              "      <th>3</th>\n",
              "      <td>0</td>\n",
              "      <td>0</td>\n",
              "      <td>21</td>\n",
              "    </tr>\n",
              "  </tbody>\n",
              "</table>\n",
              "</div>"
            ],
            "text/plain": [
              "col_0    1   2   3\n",
              "row_0             \n",
              "1      150  13   9\n",
              "2        0  22   0\n",
              "3        0   0  21"
            ]
          },
          "metadata": {
            "tags": []
          },
          "execution_count": 162
        }
      ]
    },
    {
      "cell_type": "code",
      "metadata": {
        "id": "2AD62e60hxim",
        "outputId": "ad1db70f-c1e5-40da-f020-d8882f39970f",
        "colab": {
          "base_uri": "https://localhost:8080/",
          "height": 34
        }
      },
      "source": [
        "# Tasa de clasificación erronea\n",
        "(1-np.diag(mc).sum()/len(y))*100"
      ],
      "execution_count": null,
      "outputs": [
        {
          "output_type": "execute_result",
          "data": {
            "text/plain": [
              "10.232558139534886"
            ]
          },
          "metadata": {
            "tags": []
          },
          "execution_count": 163
        }
      ]
    },
    {
      "cell_type": "markdown",
      "metadata": {
        "id": "3_fXL1LGxzJj"
      },
      "source": [
        "## Ejercicios"
      ]
    },
    {
      "cell_type": "markdown",
      "metadata": {
        "id": "nOS9cP_Exx4I"
      },
      "source": [
        "* Sigue los mismos pasos y calcula la clase estimada del nuevo sujeto. Considera distancias de Minkowski con $p=5$ y un vecindario con $K=20$."
      ]
    },
    {
      "cell_type": "code",
      "metadata": {
        "id": "VLe0sJja2-KD",
        "outputId": "f95683cb-a80f-4a68-f788-b373a3989cfc",
        "colab": {
          "base_uri": "https://localhost:8080/"
        }
      },
      "source": [
        "# Completa el código\n",
        "# Definir modelo\n",
        "knn_class_2 = KNeighborsClassifier(n_neighbors=20, p=5)\n",
        "\n",
        "# Entrenamiento\n",
        "knn_class_2.fit(X.values, np.ravel(y))\n",
        "\n",
        "# Nuevo sujeto\n",
        "new_subject = [136,12,np.nan]\n",
        "\n",
        "# Probabilidades (Datos del nuevo sujeto)\n",
        "prob = knn_class_2.predict_proba([[new_subject[0], new_subject[1]]])\n",
        "\n",
        "# Predicción (Datos del nuevo sujeto)\n",
        "pred = knn_class_2.predict([[new_subject[0], new_subject[1]]])\n",
        "\n",
        "prob, pred"
      ],
      "execution_count": null,
      "outputs": [
        {
          "output_type": "execute_result",
          "data": {
            "text/plain": [
              "(array([[0.4 , 0.15, 0.45]]), array([3]))"
            ]
          },
          "metadata": {},
          "execution_count": 33
        }
      ]
    },
    {
      "cell_type": "markdown",
      "metadata": {
        "id": "42volNsogwFW"
      },
      "source": [
        "* Manteniendo el uso de la distancia de Minkowski con $p=5$, entrena distintos modelos de forma iterativa variando $K$ desde $2$ hasta $50$. Grafica la evolución de la tasa de clasificación erronea ($TCE$) de las predicciones del conjunto de datos de entrenamiento respecto a $K$.\n"
      ]
    },
    {
      "cell_type": "code",
      "metadata": {
        "id": "G5khYFEZg7pp",
        "outputId": "5a285123-aad1-4990-cd4e-27a3ba0ac4f9",
        "colab": {
          "base_uri": "https://localhost:8080/",
          "height": 325
        }
      },
      "source": [
        "tce = []\n",
        "for k in np.arange(2,51):\n",
        "  knn_class_k = KNeighborsClassifier(n_neighbors=k, p=5)\n",
        "\n",
        "  # Entrenamiento\n",
        "  knn_class_k.fit(X.values, np.ravel(y))\n",
        "\n",
        "  predicciones = knn_class_k.predict(X.values)\n",
        "  mc = pd.crosstab(predicciones, np.ravel(y))\n",
        "  tce.append((1-np.diag(mc).sum()/len(y))*100)\n",
        "\n",
        "#grafico\n",
        "plt.scatter(x = np.arange(2,51),\n",
        "            y = tce,\n",
        "           color = 'red',)\n",
        "plt.suptitle(\"Relacion TCE y K\", fontweight = 'bold')\n",
        "plt.xlabel(\"K\")\n",
        "plt.ylabel(\"Tasa de Clasificación Erroea\")\n",
        "plt.show"
      ],
      "execution_count": null,
      "outputs": [
        {
          "output_type": "execute_result",
          "data": {
            "text/plain": [
              "<function matplotlib.pyplot.show>"
            ]
          },
          "metadata": {},
          "execution_count": 34
        },
        {
          "output_type": "display_data",
          "data": {
            "image/png": "[encoded data removed]",
            "text/plain": [
              "<Figure size 432x288 with 1 Axes>"
            ]
          },
          "metadata": {
            "needs_background": "light"
          }
        }
      ]
    }
  ]
}